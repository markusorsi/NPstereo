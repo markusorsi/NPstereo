{
 "cells": [
  {
   "cell_type": "code",
   "execution_count": null,
   "metadata": {},
   "outputs": [],
   "source": [
    "import pandas as pd\n",
    "import numpy as np\n",
    "\n",
    "from rdkit import Chem\n",
    "from rdkit import RDLogger\n",
    "RDLogger.DisableLog('rdApp.*')\n",
    "\n",
    "import matplotlib.pyplot as plt\n",
    "plt.rcParams['font.sans-serif'] = \"Arial\"\n",
    "plt.rcParams['font.family'] = \"sans-serif\"\n",
    "plt.rcParams.update({'font.size': 10})"
   ]
  },
  {
   "cell_type": "markdown",
   "metadata": {},
   "source": [
    "#### COCONUT DB: Extraction"
   ]
  },
  {
   "cell_type": "markdown",
   "metadata": {},
   "source": [
    "SQL query to extract the required data from the COCONUT database."
   ]
  },
  {
   "cell_type": "markdown",
   "metadata": {},
   "source": [
    "    \\COPY (\n",
    "        SELECT\n",
    "            m.identifier AS identifier,\n",
    "            m.canonical_smiles AS smiles,\n",
    "            STRING_AGG(c.doi, ‘, ’) AS dois,\n",
    "            p.chemical_class,\n",
    "            p.chemical_sub_class,\n",
    "            p.chemical_super_class\n",
    "        FROM\n",
    "            citations c\n",
    "        JOIN\n",
    "            citables ct ON c.id = ct.citation_id\n",
    "        JOIN\n",
    "            molecules m ON m.id = ct.citable_id\n",
    "        JOIN\n",
    "            properties p ON p.molecule_id = m.id\n",
    "        WHERE\n",
    "            ct.citable_type = ‘App\\Models\\Molecule’\n",
    "            AND c.doi IS NOT NULL\n",
    "        GROUP BY\n",
    "            m.identifier, m.canonical_smiles, p.chemical_class, p.chemical_sub_class, p.chemical_super_class\n",
    "    ) TO ‘output.csv’ WITH CSV HEADER;"
   ]
  },
  {
   "cell_type": "markdown",
   "metadata": {},
   "source": [
    "#### COCONUT DB: Formating"
   ]
  },
  {
   "cell_type": "markdown",
   "metadata": {},
   "source": [
    "Import extracted dataset"
   ]
  },
  {
   "cell_type": "code",
   "execution_count": null,
   "metadata": {},
   "outputs": [],
   "source": [
    "df = pd.read_csv('data/coconut/coconut-raw.csv')"
   ]
  },
  {
   "cell_type": "markdown",
   "metadata": {},
   "source": [
    "Add absolute SMILES"
   ]
  },
  {
   "cell_type": "code",
   "execution_count": null,
   "metadata": {},
   "outputs": [],
   "source": [
    "df['absolute_smiles'] = df['smiles'].apply(lambda x: Chem.MolToSmiles(Chem.MolFromSmiles(x), isomericSmiles=False, kekuleSmiles=False))"
   ]
  },
  {
   "cell_type": "markdown",
   "metadata": {},
   "source": [
    "Remove compounds with incomplete stereochemistry"
   ]
  },
  {
   "cell_type": "code",
   "execution_count": null,
   "metadata": {},
   "outputs": [],
   "source": [
    "def get_stereocenters(mol):\n",
    "    stereo_info = Chem.FindPotentialStereo(mol)\n",
    "    chiral_centers = []\n",
    "    for info in stereo_info:\n",
    "        chiral_centers.append((f'{info.centeredOn}', f'{info.type}', f'{info.specified}'))\n",
    "    return chiral_centers\n",
    "\n",
    "def has_complete_stereochemistry(smiles):\n",
    "    mol = Chem.MolFromSmiles(smiles)\n",
    "    chiral_centers = get_stereocenters(mol)\n",
    "    for center in chiral_centers:\n",
    "        if center[2] == 'Unspecified':\n",
    "            return False\n",
    "    return True\n",
    "\n",
    "df['is_complete'] = df['smiles'].apply(has_complete_stereochemistry)\n",
    "df_complete = df[df['is_complete'] == True].drop(columns=['is_complete'])\n",
    "df_incomplete = df[df['is_complete'] == False].drop(columns=['is_complete'])\n",
    "\n",
    "print(f'Complete (isomeric): {len(df_complete)}')\n",
    "print(f'Incomplete (isomeric): {len(df_incomplete)}')"
   ]
  },
  {
   "cell_type": "markdown",
   "metadata": {},
   "source": [
    "Export dataset with incomplete assignments for later analysis"
   ]
  },
  {
   "cell_type": "code",
   "execution_count": null,
   "metadata": {},
   "outputs": [],
   "source": [
    "def count_total_stereocenters(smiles):\n",
    "    mol = Chem.MolFromSmiles(smiles)\n",
    "    stereo_info = Chem.FindPotentialStereo(mol)\n",
    "    return len(stereo_info)\n",
    "\n",
    "def count_unassigned_stereocenters(smiles):\n",
    "    mol = Chem.MolFromSmiles(smiles)\n",
    "    stereo_info = Chem.FindPotentialStereo(mol)\n",
    "    unassigned_count = 0\n",
    "    for info in stereo_info:\n",
    "        if info.specified == Chem.StereoSpecified.Unspecified:\n",
    "            unassigned_count += 1\n",
    "    return unassigned_count\n",
    "\n",
    "df_incomplete['num_stereocenters'] = df_incomplete['smiles'].apply(count_total_stereocenters)\n",
    "df_incomplete['num_unassigned'] = df_incomplete['smiles'].apply(count_unassigned_stereocenters)\n",
    "df_incomplete[['identifier', 'smiles', 'dois', 'num_stereocenters', 'num_unassigned']].to_csv('data/coconut/coconut-incomplete.csv', index=False)"
   ]
  },
  {
   "cell_type": "markdown",
   "metadata": {},
   "source": [
    "Group by absolute SMILES"
   ]
  },
  {
   "cell_type": "code",
   "execution_count": null,
   "metadata": {},
   "outputs": [],
   "source": [
    "grouped_df_complete = df_complete.groupby('absolute_smiles').agg({\n",
    "    'smiles': lambda x: list(x),\n",
    "    'identifier': lambda x: list(x),\n",
    "    'chemical_class': 'first',\n",
    "    'chemical_sub_class': 'first',\n",
    "    'chemical_super_class': 'first',\n",
    "    'dois': lambda x: list(x)\n",
    "}).reset_index()\n",
    "\n",
    "grouped_df_incomplete = df_incomplete.groupby('absolute_smiles').agg({\n",
    "    'smiles': lambda x: list(x),\n",
    "    'identifier': lambda x: list(x),\n",
    "    'chemical_class': 'first',\n",
    "    'chemical_sub_class': 'first',\n",
    "    'chemical_super_class': 'first',\n",
    "    'dois': lambda x: list(x)\n",
    "}).reset_index()\n",
    "\n",
    "print(f'Complete (absolute): {len(grouped_df_complete)}')\n",
    "print(f'Incomplete (absolute): {len(grouped_df_incomplete)}')"
   ]
  },
  {
   "cell_type": "markdown",
   "metadata": {},
   "source": [
    "Calculate number of stereocenters; determine number of stereoisomers"
   ]
  },
  {
   "cell_type": "code",
   "execution_count": null,
   "metadata": {},
   "outputs": [],
   "source": [
    "grouped_df_complete['num_stereocenters'] = grouped_df_complete['absolute_smiles'].apply(count_total_stereocenters)\n",
    "grouped_df_complete['num_stereoisomers'] = grouped_df_complete['smiles'].apply(len)\n",
    "\n",
    "grouped_df_incomplete['num_stereocenters'] = grouped_df_incomplete['absolute_smiles'].apply(count_total_stereocenters)\n",
    "grouped_df_incomplete['num_stereoisomers'] = grouped_df_incomplete['smiles'].apply(len)"
   ]
  },
  {
   "cell_type": "markdown",
   "metadata": {},
   "source": [
    "Export dataset"
   ]
  },
  {
   "cell_type": "code",
   "execution_count": null,
   "metadata": {},
   "outputs": [],
   "source": [
    "grouped_df_complete.to_csv('data/coconut/coconut-complete-clean.csv', index=False)\n",
    "grouped_df_incomplete.to_csv('data/coconut/coconut-incomplete-clean.csv', index=False)"
   ]
  },
  {
   "cell_type": "markdown",
   "metadata": {},
   "source": [
    "#### COCONUT DB: Data Splits"
   ]
  },
  {
   "cell_type": "markdown",
   "metadata": {},
   "source": [
    "Import clean dataset"
   ]
  },
  {
   "cell_type": "code",
   "execution_count": null,
   "metadata": {},
   "outputs": [],
   "source": [
    "df = pd.read_csv('data/coconut/coconut-complete-clean.csv')\n",
    "\n",
    "df['smiles'] = df['smiles'].apply(eval)\n",
    "df['identifier'] = df['identifier'].apply(eval)"
   ]
  },
  {
   "cell_type": "markdown",
   "metadata": {},
   "source": [
    "Shuffle dataset"
   ]
  },
  {
   "cell_type": "code",
   "execution_count": null,
   "metadata": {},
   "outputs": [],
   "source": [
    "df_shuffled = df.sample(frac=1, random_state=42).reset_index(drop=True)"
   ]
  },
  {
   "cell_type": "markdown",
   "metadata": {},
   "source": [
    "Train-validation-test split on the level of absolute SMILES"
   ]
  },
  {
   "cell_type": "code",
   "execution_count": null,
   "metadata": {},
   "outputs": [],
   "source": [
    "def generate_split_dataset(df, seed=42):\n",
    "    np.random.seed(seed)\n",
    "    \n",
    "    df['split'] = np.random.choice(\n",
    "        ['train', 'test', 'validation'],\n",
    "        size=df.shape[0],\n",
    "        p=[0.8, 0.1, 0.1]\n",
    "    )\n",
    "    \n",
    "    test_structures = {\n",
    "        'Colchicine': 'COc1cc2c(c(OC)c1OC)-c1ccc(OC)c(=O)cc1C(NC(C)=O)CC2',\n",
    "        'Epothilone B': 'CC(=Cc1csc(C)n1)C1CC2OC2(C)CCCC(C)C(O)C(C)C(=O)C(C)(C)C(O)CC(=O)O1',\n",
    "        'Taxol': 'CC(=O)OC1C(=O)C2(C)C(O)CC3OCC3(OC(C)=O)C2C(OC(=O)c2ccccc2)C2(O)CC(OC(=O)C(O)C(NC(=O)c3ccccc3)c3ccccc3)C(C)=C1C2(C)C',\n",
    "        'Griseofulvin': 'COC1=CC(=O)CC(C)C12Oc1c(Cl)c(OC)cc(OC)c1C2=O',\n",
    "        'Monomethyl Auristatin E': 'CCC(C)C(C(CC(=O)N1CCCC1C(OC)C(C)C(=O)NC(C)C(O)c1ccccc1)OC)N(C)C(=O)C(NC(=O)C(NC)C(C)C)C(C)C'\n",
    "    }\n",
    "    \n",
    "    for structure, smiles in test_structures.items():\n",
    "        idx = df[df['absolute_smiles'] == smiles].index\n",
    "        df.loc[idx, 'split'] = 'test'\n",
    "    \n",
    "    df_exploded = df.explode('smiles').explode('identifier').reset_index(drop=True)\n",
    "    df_exploded.drop_duplicates(subset=['smiles'], inplace=True)\n",
    "    df_exploded.to_csv(f'data/coconut/coconut-split-{seed}.csv', index=False)\n",
    "    \n",
    "    return df_exploded\n",
    "\n",
    "for i in [0, 1, 42]:\n",
    "    generate_split_dataset(df_shuffled, seed=i)"
   ]
  }
 ],
 "metadata": {
  "kernelspec": {
   "display_name": "chiralpred",
   "language": "python",
   "name": "python3"
  },
  "language_info": {
   "codemirror_mode": {
    "name": "ipython",
    "version": 3
   },
   "file_extension": ".py",
   "mimetype": "text/x-python",
   "name": "python",
   "nbconvert_exporter": "python",
   "pygments_lexer": "ipython3",
   "version": "3.11.8"
  }
 },
 "nbformat": 4,
 "nbformat_minor": 2
}
