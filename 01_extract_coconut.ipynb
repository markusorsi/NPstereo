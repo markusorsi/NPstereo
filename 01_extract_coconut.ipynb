{
 "cells": [
  {
   "cell_type": "code",
   "execution_count": 2,
   "metadata": {},
   "outputs": [],
   "source": [
    "import pandas as pd\n",
    "import numpy as np\n",
    "\n",
    "from rdkit import Chem\n",
    "from rdkit import RDLogger\n",
    "RDLogger.DisableLog('rdApp.*')\n",
    "\n",
    "import matplotlib.pyplot as plt\n",
    "plt.rcParams['font.sans-serif'] = \"Arial\"\n",
    "plt.rcParams['font.family'] = \"sans-serif\"\n",
    "plt.rcParams.update({'font.size': 10})"
   ]
  },
  {
   "cell_type": "markdown",
   "metadata": {},
   "source": [
    "#### COCONUT DB: Extraction"
   ]
  },
  {
   "cell_type": "markdown",
   "metadata": {},
   "source": [
    "SQL query to extract the required data from the COCONUT database."
   ]
  },
  {
   "cell_type": "markdown",
   "metadata": {},
   "source": [
    "    \\COPY (\n",
    "        SELECT\n",
    "            m.identifier AS identifier,\n",
    "            m.canonical_smiles AS smiles,\n",
    "            STRING_AGG(c.doi, ‘, ’) AS dois,\n",
    "            p.chemical_class,\n",
    "            p.chemical_sub_class,\n",
    "            p.chemical_super_class\n",
    "        FROM\n",
    "            citations c\n",
    "        JOIN\n",
    "            citables ct ON c.id = ct.citation_id\n",
    "        JOIN\n",
    "            molecules m ON m.id = ct.citable_id\n",
    "        JOIN\n",
    "            properties p ON p.molecule_id = m.id\n",
    "        WHERE\n",
    "            ct.citable_type = ‘App\\Models\\Molecule’\n",
    "            AND c.doi IS NOT NULL\n",
    "        GROUP BY\n",
    "            m.identifier, m.canonical_smiles, p.chemical_class, p.chemical_sub_class, p.chemical_super_class\n",
    "    ) TO ‘output.csv’ WITH CSV HEADER;"
   ]
  },
  {
   "cell_type": "markdown",
   "metadata": {},
   "source": [
    "#### COCONUT DB: Formating"
   ]
  },
  {
   "cell_type": "markdown",
   "metadata": {},
   "source": [
    "Import extracted dataset"
   ]
  },
  {
   "cell_type": "code",
   "execution_count": 2,
   "metadata": {},
   "outputs": [],
   "source": [
    "df = pd.read_csv('data/coconut/coconut_raw.csv')"
   ]
  },
  {
   "cell_type": "markdown",
   "metadata": {},
   "source": [
    "Add absolute SMILES"
   ]
  },
  {
   "cell_type": "code",
   "execution_count": 3,
   "metadata": {},
   "outputs": [],
   "source": [
    "df['absolute_smiles'] = df['smiles'].apply(lambda x: Chem.MolToSmiles(Chem.MolFromSmiles(x), isomericSmiles=False))"
   ]
  },
  {
   "cell_type": "markdown",
   "metadata": {},
   "source": [
    "Remove compounds with incomplete stereochemistry"
   ]
  },
  {
   "cell_type": "code",
   "execution_count": 4,
   "metadata": {},
   "outputs": [],
   "source": [
    "def get_stereocenters(mol):\n",
    "    stereo_info = Chem.FindPotentialStereo(mol)\n",
    "    chiral_centers = []\n",
    "    for info in stereo_info:\n",
    "        chiral_centers.append((f'{info.centeredOn}', f'{info.type}', f'{info.specified}'))\n",
    "    return chiral_centers\n",
    "\n",
    "def has_complete_stereochemistry(smiles):\n",
    "    mol = Chem.MolFromSmiles(smiles)\n",
    "    chiral_centers = get_stereocenters(mol)\n",
    "    for center in chiral_centers:\n",
    "        if center[2] == 'Unspecified':\n",
    "            return False\n",
    "    return True\n",
    "\n",
    "df = df[df['smiles'].apply(has_complete_stereochemistry)].reset_index(drop=True)"
   ]
  },
  {
   "cell_type": "markdown",
   "metadata": {},
   "source": [
    "Group by absolute SMILES"
   ]
  },
  {
   "cell_type": "code",
   "execution_count": 5,
   "metadata": {},
   "outputs": [],
   "source": [
    "grouped_df = df.groupby('absolute_smiles').agg({\n",
    "    'smiles': lambda x: list(x),\n",
    "    'identifier': lambda x: list(x),\n",
    "    'chemical_class': 'first',\n",
    "    'chemical_sub_class': 'first',\n",
    "    'chemical_super_class': 'first',\n",
    "    'dois': lambda x: list(x)\n",
    "}).reset_index()"
   ]
  },
  {
   "cell_type": "markdown",
   "metadata": {},
   "source": [
    "Calculate number of stereocenters; determine number of stereoisomers"
   ]
  },
  {
   "cell_type": "code",
   "execution_count": 6,
   "metadata": {},
   "outputs": [],
   "source": [
    "grouped_df['mol'] = grouped_df['absolute_smiles'].apply(Chem.MolFromSmiles)\n",
    "grouped_df['num_stereocenters'] = grouped_df['mol'].apply(lambda x: len(get_stereocenters(x)))\n",
    "grouped_df['num_stereoisomers'] = grouped_df['smiles'].apply(len)"
   ]
  },
  {
   "cell_type": "markdown",
   "metadata": {},
   "source": [
    "Export dataset"
   ]
  },
  {
   "cell_type": "code",
   "execution_count": 7,
   "metadata": {},
   "outputs": [],
   "source": [
    "grouped_df.to_csv('data/coconut/coconut_clean.csv', index=False)"
   ]
  },
  {
   "cell_type": "markdown",
   "metadata": {},
   "source": [
    "#### COCONUT DB: Analysis"
   ]
  },
  {
   "cell_type": "markdown",
   "metadata": {},
   "source": [
    "Import clean dataset"
   ]
  },
  {
   "cell_type": "code",
   "execution_count": 8,
   "metadata": {},
   "outputs": [],
   "source": [
    "df = pd.read_csv('data/coconut/coconut_clean.csv')"
   ]
  },
  {
   "cell_type": "markdown",
   "metadata": {},
   "source": [
    "Show stereocenter counts"
   ]
  },
  {
   "cell_type": "code",
   "execution_count": 9,
   "metadata": {},
   "outputs": [
    {
     "data": {
      "text/plain": [
       "num_stereocenters\n",
       "0      12095\n",
       "5       5770\n",
       "4       5490\n",
       "2       4972\n",
       "3       4693\n",
       "       ...  \n",
       "72         1\n",
       "55         1\n",
       "61         1\n",
       "58         1\n",
       "105        1\n",
       "Name: count, Length: 67, dtype: int64"
      ]
     },
     "execution_count": 9,
     "metadata": {},
     "output_type": "execute_result"
    }
   ],
   "source": [
    "df['num_stereocenters'].value_counts()"
   ]
  },
  {
   "cell_type": "markdown",
   "metadata": {},
   "source": [
    "Show stereoisomer counts"
   ]
  },
  {
   "cell_type": "code",
   "execution_count": 10,
   "metadata": {},
   "outputs": [
    {
     "data": {
      "text/plain": [
       "num_stereoisomers\n",
       "1     56648\n",
       "2      6107\n",
       "3       800\n",
       "4       303\n",
       "5        67\n",
       "6        22\n",
       "7        14\n",
       "8         4\n",
       "10        3\n",
       "9         2\n",
       "11        1\n",
       "Name: count, dtype: int64"
      ]
     },
     "execution_count": 10,
     "metadata": {},
     "output_type": "execute_result"
    }
   ],
   "source": [
    "df['num_stereoisomers'].value_counts()"
   ]
  },
  {
   "cell_type": "markdown",
   "metadata": {},
   "source": [
    "#### COCONUT DB: Data Splits"
   ]
  },
  {
   "cell_type": "markdown",
   "metadata": {},
   "source": [
    "Import clean dataset"
   ]
  },
  {
   "cell_type": "code",
   "execution_count": 3,
   "metadata": {},
   "outputs": [],
   "source": [
    "df = pd.read_csv('data/coconut/coconut_clean.csv')\n",
    "\n",
    "df['smiles'] = df['smiles'].apply(eval)\n",
    "df['identifier'] = df['identifier'].apply(eval)"
   ]
  },
  {
   "cell_type": "markdown",
   "metadata": {},
   "source": [
    "Shuffle dataset"
   ]
  },
  {
   "cell_type": "code",
   "execution_count": 4,
   "metadata": {},
   "outputs": [],
   "source": [
    "df_shuffled = df.sample(frac=1, random_state=42).reset_index(drop=True)"
   ]
  },
  {
   "cell_type": "markdown",
   "metadata": {},
   "source": [
    "Train-validation-test split on the level of absolute SMILES"
   ]
  },
  {
   "cell_type": "code",
   "execution_count": 5,
   "metadata": {},
   "outputs": [],
   "source": [
    "np.random.seed(42)\n",
    "df_shuffled['split'] = np.random.choice(['train', 'test', 'validation'], df_shuffled.shape[0], p=[0.8, 0.1, 0.1])"
   ]
  },
  {
   "cell_type": "markdown",
   "metadata": {},
   "source": [
    "Assign selected compounds to the test set"
   ]
  },
  {
   "cell_type": "code",
   "execution_count": 6,
   "metadata": {},
   "outputs": [],
   "source": [
    "test_structures = {\n",
    "    'Colchicine': 'COc1cc2c(c(OC)c1OC)-c1ccc(OC)c(=O)cc1C(NC(C)=O)CC2',\n",
    "    'Epothilone B': 'CC(=Cc1csc(C)n1)C1CC2OC2(C)CCCC(C)C(O)C(C)C(=O)C(C)(C)C(O)CC(=O)O1',\n",
    "    'Taxol': 'CC(=O)OC1C(=O)C2(C)C(O)CC3OCC3(OC(C)=O)C2C(OC(=O)c2ccccc2)C2(O)CC(OC(=O)C(O)C(NC(=O)c3ccccc3)c3ccccc3)C(C)=C1C2(C)C',\n",
    "    'Griseofulvin': 'COC1=CC(=O)CC(C)C12Oc1c(Cl)c(OC)cc(OC)c1C2=O',\n",
    "    'Monomethyl Auristatin E': 'CCC(C)C(C(CC(=O)N1CCCC1C(OC)C(C)C(=O)NC(C)C(O)c1ccccc1)OC)N(C)C(=O)C(NC(=O)C(NC)C(C)C)C(C)C'\n",
    "}\n",
    "\n",
    "for structure, smiles in test_structures.items():\n",
    "    idx = df_shuffled[df_shuffled['absolute_smiles'] == smiles].index\n",
    "    df_shuffled.loc[idx, 'split'] = 'test'"
   ]
  },
  {
   "cell_type": "code",
   "execution_count": 7,
   "metadata": {},
   "outputs": [],
   "source": [
    "df_shuffled.to_csv('data/coconut/coconut_clean_splits.csv', index=False)"
   ]
  },
  {
   "cell_type": "markdown",
   "metadata": {},
   "source": [
    "Explode the dataset to the level of stereoisomers"
   ]
  },
  {
   "cell_type": "code",
   "execution_count": 15,
   "metadata": {},
   "outputs": [],
   "source": [
    "df_exploded = df_shuffled.explode('smiles').explode('identifier').reset_index(drop=True)\n",
    "df_exploded.drop_duplicates(subset=['smiles'], inplace=True)"
   ]
  },
  {
   "cell_type": "markdown",
   "metadata": {},
   "source": [
    "Export dataset"
   ]
  },
  {
   "cell_type": "code",
   "execution_count": 16,
   "metadata": {},
   "outputs": [],
   "source": [
    "df_exploded.to_csv('data/coconut/coconut_split.csv', index=False)"
   ]
  }
 ],
 "metadata": {
  "kernelspec": {
   "display_name": "chiralpred",
   "language": "python",
   "name": "python3"
  },
  "language_info": {
   "codemirror_mode": {
    "name": "ipython",
    "version": 3
   },
   "file_extension": ".py",
   "mimetype": "text/x-python",
   "name": "python",
   "nbconvert_exporter": "python",
   "pygments_lexer": "ipython3",
   "version": "3.11.8"
  }
 },
 "nbformat": 4,
 "nbformat_minor": 2
}
