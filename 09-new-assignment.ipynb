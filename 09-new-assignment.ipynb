{
 "cells": [
  {
   "cell_type": "code",
   "execution_count": 1,
   "metadata": {},
   "outputs": [],
   "source": [
    "import pandas as pd\n",
    "import re\n",
    "import math\n",
    "import contextlib\n",
    "import io\n",
    "from IPython.display import HTML\n",
    "from io import BytesIO\n",
    "import base64\n",
    "\n",
    "from rdkit import Chem\n",
    "from rdkit.Chem import PandasTools\n",
    "from rdkit.Chem import Draw\n",
    "from rdkit.Chem.Draw import IPythonConsole\n",
    "from rdkit.Chem import rdDepictor\n",
    "\n",
    "from eval_functions import *"
   ]
  },
  {
   "cell_type": "markdown",
   "metadata": {},
   "source": [
    "#### Import literature dataset"
   ]
  },
  {
   "cell_type": "markdown",
   "metadata": {},
   "source": [
    "Read dataset using pandas"
   ]
  },
  {
   "cell_type": "code",
   "execution_count": 2,
   "metadata": {},
   "outputs": [],
   "source": [
    "df = pd.read_excel('data/literature-dataset.xlsx')"
   ]
  },
  {
   "cell_type": "markdown",
   "metadata": {},
   "source": [
    "#### Prepare dataset for prediction"
   ]
  },
  {
   "cell_type": "markdown",
   "metadata": {},
   "source": [
    "Canonicalize the SMILES"
   ]
  },
  {
   "cell_type": "code",
   "execution_count": 3,
   "metadata": {},
   "outputs": [],
   "source": [
    "df['SMILES'] = df['SMILES'].apply(lambda x: Chem.MolToSmiles(Chem.MolFromSmiles(x), isomericSmiles=True, kekuleSmiles=False))"
   ]
  },
  {
   "cell_type": "markdown",
   "metadata": {},
   "source": [
    "Generate source SMILES"
   ]
  },
  {
   "cell_type": "code",
   "execution_count": 4,
   "metadata": {},
   "outputs": [],
   "source": [
    "df['source'] = df['SMILES'].apply(flatten)"
   ]
  },
  {
   "cell_type": "markdown",
   "metadata": {},
   "source": [
    "Tokenize SMILES"
   ]
  },
  {
   "cell_type": "code",
   "execution_count": 5,
   "metadata": {},
   "outputs": [],
   "source": [
    "def smi_tokenizer(smi: str) -> str:\n",
    "        \"\"\"\n",
    "        Tokenize a SMILES molecule or reaction. Modified for the special tagging character \"!\".\n",
    "        \"\"\"\n",
    "        pattern =  \"(\\[[^\\]]+]|Br?|Cl?|N|O|S|P|F|I|b|c|n|o|s|p|\\(|\\)|\\.|=|#|-|\\+|\\\\\\\\|\\/|:|~|@|\\?|>|\\*|\\!|\\$|\\%[0-9]{2}|[0-9])\"\n",
    "        regex = re.compile(pattern)\n",
    "        tokens = [token for token in regex.findall(smi)]\n",
    "        return ' '.join(tokens)"
   ]
  },
  {
   "cell_type": "code",
   "execution_count": 6,
   "metadata": {},
   "outputs": [],
   "source": [
    "df['source'] = df['source'].apply(smi_tokenizer)\n",
    "df['target'] = df['SMILES'].apply(smi_tokenizer)"
   ]
  },
  {
   "cell_type": "markdown",
   "metadata": {},
   "source": [
    "#### Export dataset"
   ]
  },
  {
   "cell_type": "markdown",
   "metadata": {},
   "source": [
    "Export source and target tokenized SMILES as text files"
   ]
  },
  {
   "cell_type": "code",
   "execution_count": 7,
   "metadata": {},
   "outputs": [],
   "source": [
    "df['source'].to_csv('data/opennmt/validation/source.txt', index=False, header=False)\n",
    "df['target'].to_csv('data/opennmt/validation/target.txt', index=False, header=False)"
   ]
  },
  {
   "cell_type": "markdown",
   "metadata": {},
   "source": [
    "#### Run predictions"
   ]
  },
  {
   "cell_type": "markdown",
   "metadata": {},
   "source": [
    "Run predictions using the 5x augmented model. Save verbose output in a log file."
   ]
  },
  {
   "cell_type": "code",
   "execution_count": 8,
   "metadata": {},
   "outputs": [
    {
     "name": "stdout",
     "output_type": "stream",
     "text": [
      "[2025-02-04 09:58:05,396 INFO] Loading checkpoint from models/partial_augmented_5x/partial_augmented_5x_step_100000.pt\n",
      "[2025-02-04 09:58:05,870 INFO] Loading data into the model\n",
      "[2025-02-04 09:58:08,767 INFO] \n",
      "SENT 1: ['C', 'O', 'c', '1', 'c', 'c', '2', 'c', '(', 'c', '(', 'O', 'C', ')', 'c', '1', 'O', 'C', ')', '-', 'c', '1', 'c', 'c', 'c', '(', 'O', 'C', ')', 'c', '(', '=', 'O', ')', 'c', 'c', '1', 'C', '(', 'N', 'C', '(', 'C', ')', '=', 'O', ')', 'C', 'C', '2']\n",
      "PRED 1: C O c 1 c c 2 c ( c ( O C ) c 1 O C ) - c 1 c c c ( O C ) c ( = O ) c c 1 [C@@H] ( N C ( C ) = O ) C C 2\n",
      "PRED SCORE: -0.0857\n",
      "\n",
      "[2025-02-04 09:58:08,767 INFO] \n",
      "SENT 2: ['C', 'C', '(', '=', 'C', 'c', '1', 'c', 's', 'c', '(', 'C', ')', 'n', '1', ')', 'C', '1', 'C', 'C', '2', 'O', 'C', '2', '(', 'C', ')', 'C', 'C', 'C', 'C', '(', 'C', ')', 'C', '(', 'O', ')', 'C', '(', 'C', ')', 'C', '(', '=', 'O', ')', 'C', '(', 'C', ')', '(', 'C', ')', 'C', '(', 'O', ')', 'C', 'C', '(', '=', 'O', ')', 'O', '1']\n",
      "PRED 2: C / C ( = C \\ c 1 c s c ( C ) n 1 ) [C@@H] 1 C [C@@H] 2 O [C@] 2 ( C ) C C C [C@H] ( C ) [C@H] ( O ) [C@@H] ( C ) C ( = O ) C ( C ) ( C ) [C@@H] ( O ) C C ( = O ) O 1\n",
      "PRED SCORE: -0.0842\n",
      "\n",
      "[2025-02-04 09:58:08,767 INFO] \n",
      "SENT 3: ['C', 'C', '(', '=', 'O', ')', 'O', 'C', '1', 'C', '(', '=', 'O', ')', 'C', '2', '(', 'C', ')', 'C', '(', 'C', '(', 'O', 'C', '(', '=', 'O', ')', 'c', '3', 'c', 'c', 'c', 'c', 'c', '3', ')', 'C', '3', '(', 'O', ')', 'C', 'C', '(', 'O', 'C', '(', '=', 'O', ')', 'C', '(', 'O', ')', 'C', '(', 'N', 'C', '(', '=', 'O', ')', 'c', '4', 'c', 'c', 'c', 'c', 'c', '4', ')', 'c', '4', 'c', 'c', 'c', 'c', 'c', '4', ')', 'C', '(', 'C', ')', '=', 'C', '1', 'C', '3', '(', 'C', ')', 'C', ')', 'C', '1', '(', 'O', 'C', '(', 'C', ')', '=', 'O', ')', 'C', 'O', 'C', '1', 'C', 'C', '2', 'O']\n",
      "PRED 3: C C ( = O ) O [C@H] 1 C ( = O ) [C@@] 2 ( C ) [C@H] ( [C@H] ( O C ( = O ) c 3 c c c c c 3 ) [C@] 3 ( O ) C [C@H] ( O C ( = O ) [C@H] ( O ) [C@@H] ( N C ( = O ) c 4 c c c c c 4 ) c 4 c c c c c 4 ) C ( C ) = C 1 C 3 ( C ) C ) [C@] 1 ( O C ( C ) = O ) C O [C@@H] 1 C [C@@H] 2 O\n",
      "PRED SCORE: -0.0838\n",
      "\n",
      "[2025-02-04 09:58:08,767 INFO] \n",
      "SENT 4: ['C', 'O', 'C', '1', '=', 'C', 'C', '(', '=', 'O', ')', 'C', 'C', '(', 'C', ')', 'C', '1', '2', 'O', 'c', '1', 'c', '(', 'Cl', ')', 'c', '(', 'O', 'C', ')', 'c', 'c', '(', 'O', 'C', ')', 'c', '1', 'C', '2', '=', 'O']\n",
      "PRED 4: C O C 1 = C C ( = O ) C [C@@H] ( C ) [C@] 1 2 O c 1 c ( Cl ) c ( O C ) c c ( O C ) c 1 C 2 = O\n",
      "PRED SCORE: -0.0910\n",
      "\n",
      "[2025-02-04 09:58:08,767 INFO] \n",
      "SENT 5: ['C', 'C', 'C', 'C', '=', 'C', 'C', '=', 'C', 'C', 'C', 'C', 'C', 'C', 'C', 'C', 'C', 'C', 'O']\n",
      "PRED 5: C C C / C = C \\ C = C \\ C C C C C C C C C O\n",
      "PRED SCORE: -0.1159\n",
      "\n",
      "[2025-02-04 09:58:08,768 INFO] \n",
      "SENT 6: ['C', 'C', 'C', '(', 'C', ')', 'C', '(', 'C', '(', 'C', 'C', '(', '=', 'O', ')', 'N', '1', 'C', 'C', 'C', 'C', '1', 'C', '(', 'O', 'C', ')', 'C', '(', 'C', ')', 'C', '(', '=', 'O', ')', 'N', 'C', '(', 'C', ')', 'C', '(', 'O', ')', 'c', '1', 'c', 'c', 'c', 'c', 'c', '1', ')', 'O', 'C', ')', 'N', '(', 'C', ')', 'C', '(', '=', 'O', ')', 'C', '(', 'N', 'C', '(', '=', 'O', ')', 'C', '(', 'N', 'C', ')', 'C', '(', 'C', ')', 'C', ')', 'C', '(', 'C', ')', 'C']\n",
      "PRED 6: C C [C@H] ( C ) [C@@H] ( [C@@H] ( C C ( = O ) N 1 C C C [C@H] 1 [C@H] ( O C ) [C@@H] ( C ) C ( = O ) N [C@H] ( C ) [C@@H] ( O ) c 1 c c c c c 1 ) O C ) N ( C ) C ( = O ) [C@@H] ( N C ( = O ) [C@@H] ( N C ) C ( C ) C ) C ( C ) C\n",
      "PRED SCORE: -0.0851\n",
      "\n",
      "[2025-02-04 09:58:08,768 INFO] \n",
      "SENT 7: ['C', 'C', '=', 'C', 'C', '=', 'C', 'C', '=', 'C', 'C', '=', 'C', 'C', '(', '=', 'O', ')', 'N', 'C', '(', 'C', 'c', '1', 'c', 'c', 'c', 'c', 'c', '1', ')', 'C', '(', '=', 'O', ')', 'N', 'C', '(', 'C', 'c', '1', 'c', 'c', 'c', 'c', 'c', '1', ')', 'c', '1', 'n', 'c', '(', 'C', '(', 'O', ')', '=', 'C', 'C', '(', '=', 'O', ')', 'C', 'C', '(', '=', 'O', ')', 'O', 'C', '(', 'C', ')', 'C', '(', '=', 'O', ')', 'O', ')', 'c', 's', '1']\n",
      "PRED 7: C / C = C / C = C / C = C / C = C / C ( = O ) N [C@@H] ( C c 1 c c c c c 1 ) C ( = O ) N [C@@H] ( C c 1 c c c c c 1 ) c 1 n c ( / C ( O ) = C / C ( = O ) C C ( = O ) O [C@@H] ( C ) C ( = O ) O ) c s 1\n",
      "PRED SCORE: -0.0834\n",
      "\n",
      "[2025-02-04 09:58:08,768 INFO] \n",
      "SENT 8: ['C', 'C', 'C', 'C', 'C', 'C', '(', 'O', ')', 'C', 'c', '1', 'c', 'c', '(', 'O', ')', 'c', '(', 'C', '(', '=', 'O', ')', 'O', ')', 'c', '(', 'O', ')', 'c', '1', 'C', '1', 'C', 'C', 'C', '2', 'C', '(', '=', 'O', ')', 'N', 'C', '(', 'C', 'C', '(', 'C', ')', 'C', ')', 'C', '(', '=', 'O', ')', 'N', '1', '2']\n",
      "PRED 8: C C C C C [C@H] ( O ) C c 1 c c ( O ) c ( C ( = O ) O ) c ( O ) c 1 [C@H] 1 C C [C@@H] 2 C ( = O ) N [C@H] ( C C ( C ) C ) C ( = O ) N 1 2\n",
      "PRED SCORE: -0.0925\n",
      "\n",
      "[2025-02-04 09:58:08,768 INFO] \n",
      "SENT 9: ['C', 'C', 'C', '=', 'C', 'C', '=', 'C', 'C', '1', '(', 'C', ')', 'O', 'C', '2', '(', 'C', 'C', '1', '=', 'O', ')', 'C', 'C', '1', 'O', 'C', '(', 'C', ')', 'C', '(', 'C', ')', 'c', '3', 'c', '(', 'C', ')', 'c', '(', 'O', ')', 'c', 'c', '(', 'c', '3', '1', ')', 'O', '2']\n",
      "PRED 9: C C / C = C / C = C / [C@@] 1 ( C ) O [C@@] 2 ( C C 1 = O ) C [C@H] 1 O [C@H] ( C ) [C@@H] ( C ) c 3 c ( C ) c ( O ) c c ( c 3 1 ) O 2\n",
      "PRED SCORE: -0.0844\n",
      "\n",
      "[2025-02-04 09:58:08,768 INFO] \n",
      "SENT 10: ['C', 'C', '1', 'C', 'C', '(', 'C', 'C', '2', 'C', 'C', 'C', 'C', '3', 'C', 'C', '(', 'C', ')', 'C', 'C', '(', 'C', ')', 'N', '3', '2', ')', 'C', '2', 'C', 'C', 'C', 'N', '(', 'C', '(', '=', 'O', ')', 'O', ')', 'C', '2', 'C', '1']\n",
      "PRED 10: C [C@@H] 1 C [C@@H] ( C [C@H] 2 C C C [C@H] 3 C [C@@H] ( C ) C [C@H] ( C ) N 3 2 ) [C@H] 2 C C C N ( C ( = O ) O ) [C@H] 2 C 1\n",
      "PRED SCORE: -0.1040\n",
      "\n",
      "[2025-02-04 09:58:08,768 INFO] \n",
      "SENT 11: ['C', 'C', 'C', 'C', '(', 'O', ')', 'C', '=', 'C', 'C', 'c', '1', 'c', 'c', 'c', 'c', 'c', '1', 'C', '=', 'C', 'C', '(', '=', 'O', ')', 'N', 'C', '1', 'C', '(', '=', 'O', ')', 'N', 'C', '(', 'C', '(', 'C', ')', 'O', ')', 'C', '(', '=', 'O', ')', 'N', 'C', '(', 'C', 'C', '(', 'C', ')', 'C', ')', 'C', '(', '=', 'O', ')', 'N', 'C', '(', 'C', 'O', ')', 'C', '(', '=', 'O', ')', 'C', 'C', '(', 'C', 'C', '(', '=', 'O', ')', 'O', ')', 'C', '(', '=', 'O', ')', 'N', 'C', 'C', '(', '=', 'O', ')', 'N', 'C', '(', 'C', 'O', ')', 'C', '(', '=', 'O', ')', 'O', 'C', '1', 'C']\n",
      "PRED 11: C C C [C@H] ( O ) / C = C / C c 1 c c c c c 1 / C = C / C ( = O ) N [C@@H] 1 C ( = O ) N [C@H] ( [C@@H] ( C ) O ) C ( = O ) N [C@H] ( C C ( C ) C ) C ( = O ) N [C@@H] ( C O ) C ( = O ) C [C@H] ( C C ( = O ) O ) C ( = O ) N C C ( = O ) N [C@@H] ( C O ) C ( = O ) O [C@@H] 1 C\n",
      "PRED SCORE: -0.0868\n",
      "\n",
      "[2025-02-04 09:58:08,769 INFO] \n",
      "SENT 12: ['C', 'C', '=', 'C', '(', 'C', ')', 'C', '=', 'C', '(', 'C', ')', 'C', '=', 'C', 'C', '1', 'C', 'C', '(', 'O', ')', 'C', '2', 'O', 'C', '(', '=', 'O', ')', 'C', '2', '1', 'C', 'O']\n",
      "PRED 12: C / C = C ( C ) / C = C ( C ) / C = C / [C@@H] 1 C [C@@H] ( O ) [C@@H] 2 O C ( = O ) [C@] 2 1 C O\n",
      "PRED SCORE: -0.0874\n",
      "\n",
      "[2025-02-04 09:58:08,769 INFO] \n",
      "SENT 13: ['C', 'C', '(', 'C', ')', 'C', '1', '(', 'O', ')', 'C', '(', '=', 'O', ')', 'C', '2', 'C', '3', '=', 'C', '(', 'C', 'C', 'C', '4', 'C', '(', 'C', ')', '(', 'C', ')', 'C', 'C', 'C', 'C', '3', '4', 'C', ')', 'C', '1', 'C', 'C', '2', '1', 'C', '(', '=', 'O', ')', 'C', '2', '3', 'C', 'C', 'C', '1', 'C', 'C', '2', 'C', '1', '(', 'C', ')', 'C', 'C', 'C', 'C', '(', 'C', ')', '(', 'C', 'O', ')', 'C', '1', 'C', 'C', '3']\n",
      "PRED 13: C C ( C ) [C@] 1 ( O ) C ( = O ) [C@@H] 2 C 3 = C ( C C [C@H] 4 C ( C ) ( C ) C C C [C@] 3 4 C ) [C@@H] 1 C [C@] 2 1 C ( = O ) [C@] 2 3 C C [C@H] 1 C [C@H] 2 [C@] 1 ( C ) C C C [C@] ( C ) ( C O ) [C@H] 1 C C 3\n",
      "PRED SCORE: -0.0922\n",
      "\n",
      "[2025-02-04 09:58:08,769 INFO] \n",
      "SENT 14: ['C', 'C', '(', 'C', 'C', '(', 'C', ')', 'C', '(', '=', 'O', ')', 'C', '1', '=', 'C', '(', 'O', ')', 'C', '(', '=', 'C', 'c', '2', 'c', 'c', 'c', 'c', 'c', '2', ')', 'N', 'C', '1', '=', 'O', ')', 'C', 'C', '(', 'C', ')', '(', 'O', ')', 'C', '(', 'O', ')', 'C', '(', '=', 'O', ')', 'O']\n",
      "PRED 14: C [C@H] ( C [C@H] ( C ) C ( = O ) C 1 = C ( O ) / C ( = C / c 2 c c c c c 2 ) N C 1 = O ) C [C@@] ( C ) ( O ) [C@@H] ( O ) C ( = O ) O\n",
      "PRED SCORE: -0.0872\n",
      "\n",
      "[2025-02-04 09:58:08,769 INFO] \n",
      "SENT 15: ['C', 'C', 'C', 'C', 'C', 'C', '=', 'C', 'C', '=', 'C', 'C', '(', '=', 'O', ')', 'N', 'C', 'C', '1', 'N', 'C', 'C', 'N', '2', 'C', '(', '=', 'O', ')', 'C', '(', 'C', 'C', 'N', 'C', '(', '=', 'O', ')', 'C', '(', 'C', 'c', '3', 'c', 'c', 'c', '(', 'O', 'C', ')', 'c', 'c', '3', ')', 'N', 'C', '1', '=', 'O', ')', 'N', 'C', '2', '(', 'C', ')', 'C']\n",
      "PRED 15: C C C C C / C = C \\ C = C \\ C ( = O ) N C [C@@H] 1 N C C N 2 C ( = O ) [C@H] ( C C N C ( = O ) [C@H] ( C c 3 c c c ( O C ) c c 3 ) N C 1 = O ) N C 2 ( C ) C\n",
      "PRED SCORE: -0.0869\n",
      "\n",
      "[2025-02-04 09:58:08,769 INFO] \n",
      "SENT 16: ['C', 'C', 'C', '1', 'C', '=', 'C', 'C', '(', 'O', ')', 'C', '(', 'C', 'C', '(', 'C', ')', 'C', ')', 'O', 'C', '(', '=', 'O', ')', 'C', '2', '(', 'C', ')', 'C', '=', 'C', 'C', '(', '=', 'O', ')', 'N', 'C', '3', '=', 'C', '2', 'C', '(', '=', 'O', ')', 'c', '2', 'c', '(', 'c', 'c', '(', 'C', ')', 'c', '(', 'O', ')', 'c', '2', 'C', '(', '=', 'O', ')', 'C', 'C', '1', ')', 'C', '3', '=', 'O']\n",
      "PRED 16: C C [C@H] 1 / C = C / [C@H] ( O ) [C@H] ( C C ( C ) C ) O C ( = O ) [C@] 2 ( C ) C = C C ( = O ) N C 3 = C 2 C ( = O ) c 2 c ( c c ( C ) c ( O ) c 2 C ( = O ) C C 1 ) C 3 = O\n",
      "PRED SCORE: -0.0846\n",
      "\n",
      "[2025-02-04 09:58:08,769 INFO] \n",
      "SENT 17: ['C', 'C', '(', 'C', ')', '(', 'O', ')', 'C', '1', 'C', 'c', '2', 'c', '(', 'c', 'c', 'c', '3', '[nH]', 'c', '4', 'c', '(', 'c', '2', '3', ')', 'C', 'C', '2', 'C', 'C', 'C', '3', '(', 'O', ')', 'C', '(', 'C', ')', '(', 'C', ')', 'C', '(', '=', 'O', ')', 'C', '=', 'C', 'C', '3', '(', 'C', ')', 'C', '4', '2', 'C', ')', 'C', 'C', '(', 'C', '(', 'C', ')', '(', 'C', ')', 'O', ')', 'O', '1']\n",
      "PRED 17: C C ( C ) ( O ) [C@@H] 1 C c 2 c ( c c c 3 [nH] c 4 c ( c 2 3 ) C [C@@H] 2 C C [C@@] 3 ( O ) C ( C ) ( C ) C ( = O ) C = C [C@] 3 ( C ) [C@] 4 2 C ) C [C@@H] ( C ( C ) ( C ) O ) O 1\n",
      "PRED SCORE: -0.0923\n",
      "\n",
      "[2025-02-04 09:58:08,769 INFO] \n",
      "SENT 18: ['C', '=', 'C', '(', 'C', ')', 'C', '1', 'C', 'C', 'C', '(', 'C', ')', 'C', '2', 'C', '1', 'C', '=', 'C', '(', 'C', ')', 'C', '(', 'O', 'C', '(', 'C', ')', '=', 'O', ')', 'C', '2', 'O', 'C', '(', '=', 'O', ')', 'C', '(', 'C', 'C', '(', '=', 'O', ')', 'c', '1', 'c', 'c', 'c', 'c', 'c', '1', 'N', 'C', ')', 'N', 'C', '=', 'O']\n",
      "PRED 18: C = C ( C ) [C@H] 1 C C [C@H] ( C ) [C@@H] 2 [C@@H] 1 / C = C ( / C ) [C@H] ( O C ( C ) = O ) [C@@H] 2 O C ( = O ) [C@H] ( C C ( = O ) c 1 c c c c c 1 N C ) N C = O\n",
      "PRED SCORE: -0.0957\n",
      "\n",
      "[2025-02-04 09:58:08,770 INFO] \n",
      "SENT 19: ['C', '=', 'C', '(', 'C', ')', 'C', '#', 'C', 'C', '1', '=', 'C', 'C', '(', 'O', ')', 'C', '2', 'O', 'C', '2', '(', 'C', 'C', '=', 'C', '(', 'C', ')', 'C', '(', '=', 'O', ')', 'O', ')', 'C', '1', 'O']\n",
      "PRED 19: C = C ( C ) C # C C 1 = C [C@@H] ( O ) [C@@H] 2 O [C@] 2 ( C / C = C ( / C ) C ( = O ) O ) [C@@H] 1 O\n",
      "PRED SCORE: -0.0885\n",
      "\n",
      "[2025-02-04 09:58:08,770 INFO] \n",
      "SENT 20: ['C', 'C', '(', 'O', ')', 'C', 'C', '1', 'C', 'C', '(', 'O', ')', 'C', '2', '=', 'C', '(', 'O', '1', ')', 'C', '(', '=', 'C', 'C', '(', 'C', ')', '(', 'C', ')', 'O', ')', 'N', 'C', '2', '=', 'O']\n",
      "PRED 20: C [C@@H] ( O ) C [C@@H] 1 C [C@H] ( O ) C 2 = C ( O 1 ) / C ( = C / C ( C ) ( C ) O ) N C 2 = O\n",
      "PRED SCORE: -0.0978\n",
      "\n",
      "[2025-02-04 09:58:08,770 INFO] \n",
      "SENT 21: ['C', 'c', '1', 'n', 'c', 'c', '(', 'C', 'C', '(', 'O', ')', 'C', '(', 'O', ')', 'C', 'O', ')', 'n', 'c', '1', 'C']\n",
      "PRED 21: C c 1 n c c ( C [C@@H] ( O ) [C@@H] ( O ) C O ) n c 1 C\n",
      "PRED SCORE: -0.1233\n",
      "\n",
      "[2025-02-04 09:58:08,770 INFO] \n",
      "SENT 22: ['C', 'C', '(', 'C', ')', 'C', 'C', '(', 'C', '=', 'C', 'N', '1', 'C', '=', 'C', '1', ')', 'O', 'C', '1', 'O', 'C', '(', 'C', 'O', ')', 'C', '(', 'O', ')', 'C', '(', 'O', ')', 'C', '1', 'O']\n",
      "PRED 22: C C ( C ) C [C@@H] ( / C = C / N 1 C = C 1 ) O [C@@H] 1 O [C@H] ( C O ) [C@@H] ( O ) [C@H] ( O ) [C@H] 1 O\n",
      "PRED SCORE: -0.0864\n",
      "\n",
      "[2025-02-04 09:58:08,770 INFO] \n",
      "SENT 23: ['C', '=', 'C', 'C', '1', 'C', '(', 'O', 'C', '2', 'O', 'C', '(', 'C', 'O', ')', 'C', '(', 'O', ')', 'C', '(', 'O', ')', 'C', '2', 'O', 'C', '2', 'O', 'C', '(', 'C', 'O', ')', 'C', '(', 'O', ')', 'C', '(', 'O', ')', 'C', '2', 'O', ')', 'O', 'C', '=', 'C', '2', 'C', '(', '=', 'O', ')', 'N', '3', 'C', 'c', '4', 'c', '(', '[nH]', 'c', '5', 'c', 'c', '(', 'O', 'C', '6', 'O', 'C', '(', 'C', 'O', ')', 'C', '(', 'O', ')', 'C', '(', 'O', ')', 'C', '6', 'O', ')', 'c', 'c', 'c', '5', 'c', '4', '=', 'O', ')', 'C', '3', 'C', 'C', '2', '1']\n",
      "PRED 23: C = C [C@H] 1 [C@H] ( O [C@@H] 2 O [C@H] ( C O ) [C@@H] ( O ) [C@H] ( O ) [C@H] 2 O [C@@H] 2 O [C@H] ( C O ) [C@@H] ( O ) [C@H] ( O ) [C@H] 2 O ) O C = C 2 C ( = O ) N 3 C c 4 c ( [nH] c 5 c c ( O [C@@H] 6 O [C@H] ( C O ) [C@@H] ( O ) [C@H] ( O ) [C@H] 6 O ) c c c 5 c 4 = O ) [C@H] 3 C [C@H] 2 1\n",
      "PRED SCORE: -0.0835\n",
      "\n",
      "[2025-02-04 09:58:08,770 INFO] \n",
      "SENT 24: ['C', 'c', '1', 'c', 'c', '(', 'C', ')', 'n', '(', 'C', '(', 'C', 'C', 'C', 'N', 'C', '(', 'N', ')', '=', 'O', ')', 'C', '(', 'N', ')', '=', 'O', ')', 'c', '1']\n",
      "PRED 24: C c 1 c c ( C ) n ( [C@@H] ( C C C N C ( N ) = O ) C ( N ) = O ) c 1\n",
      "PRED SCORE: -0.0823\n",
      "\n",
      "[2025-02-04 09:58:08,770 INFO] \n",
      "SENT 25: ['C', 'O', 'C', '(', '=', 'O', ')', 'C', 'c', '1', 'c', 'c', '(', 'O', ')', 'c', 'c', '(', 'O', ')', 'c', '1', 'C', '(', '=', 'O', ')', 'C', 'C', '(', 'O', ')', 'C', 'C', 'C', 'C', '(', 'C', ')', 'O']\n",
      "PRED 25: C O C ( = O ) C c 1 c c ( O ) c c ( O ) c 1 C ( = O ) C [C@@H] ( O ) C C C [C@H] ( C ) O\n",
      "PRED SCORE: -0.0950\n",
      "\n",
      "[2025-02-04 09:58:08,770 INFO] \n",
      "SENT 26: ['C', 'C', '1', 'C', 'C', '(', 'C', '(', 'O', ')', 'C', '(', 'C', ')', '(', 'C', ')', 'O', ')', 'O', 'C', '2', 'C', '(', 'O', ')', 'C', '3', '(', 'C', ')', 'C', '4', 'C', 'C', 'C', '5', 'C', '(', 'C', ')', '(', 'C', ')', 'C', '(', 'O', 'C', '6', 'O', 'C', 'C', '(', 'O', ')', 'C', '(', 'O', ')', 'C', '6', 'O', ')', 'C', 'C', 'C', '5', '6', 'C', 'C', '4', '6', 'C', 'C', 'C', '3', '(', 'C', ')', 'C', '2', '1']\n",
      "PRED 26: C [C@@H] 1 C [C@H] ( [C@@H] ( O ) C ( C ) ( C ) O ) O [C@H] 2 [C@H] ( O ) [C@@] 3 ( C ) [C@@H] 4 C C [C@H] 5 C ( C ) ( C ) [C@@H] ( O [C@@H] 6 O C [C@@H] ( O ) [C@H] ( O ) [C@H] 6 O ) C C [C@@] 5 6 C [C@@] 4 6 C C [C@] 3 ( C ) [C@H] 2 1\n",
      "PRED SCORE: -0.0857\n",
      "\n",
      "[2025-02-04 09:58:08,770 INFO] \n",
      "SENT 27: ['C', 'C', '1', 'C', 'C', 'C', '2', 'C', '(', '=', 'C', 'C', '3', 'O', 'C', '(', '=', 'C', 'C', '=', 'O', ')', 'C', '2', '(', 'C', ')', 'C', '3', 'C', ')', 'C', '1']\n",
      "PRED 27: C [C@H] 1 C C [C@@H] 2 C ( = C [C@@H] 3 O C ( = C C = O ) [C@] 2 ( C ) [C@H] 3 C ) C 1\n",
      "PRED SCORE: -0.0832\n",
      "\n",
      "[2025-02-04 09:58:08,771 INFO] \n",
      "SENT 28: ['C', '=', 'C', 'C', '1', '(', 'O', ')', 'C', 'c', '2', 'n', 'c', '3', 'c', '4', 'c', '(', 'c', '2', 'C', '1', '=', 'O', ')', 'C', 'C', '1', 'O', 'C', '4', '(', 'O', 'C', '1', 'C', 'C', 'C', 'C', 'C', 'C', ')', 'C', '(', 'O', ')', 'C', 'C', '3']\n",
      "PRED 28: C = C [C@@] 1 ( O ) C c 2 n c 3 c 4 c ( c 2 C 1 = O ) C [C@@H] 1 O [C@] 4 ( O [C@H] 1 C C C C C C ) [C@@H] ( O ) C C 3\n",
      "PRED SCORE: -0.0823\n",
      "\n",
      "[2025-02-04 09:58:08,771 INFO] \n",
      "SENT 29: ['C', 'C', '1', '=', 'C', 'C', '(', 'O', ')', 'C', '2', 'C', 'C', '(', 'C', ')', 'C', 'C', 'C', '2', 'C', '1', 'C', '(', '=', 'O', ')', 'C', 'C', 'O']\n",
      "PRED 29: C C 1 = C [C@@H] ( O ) [C@H] 2 C [C@@H] ( C ) C C [C@@H] 2 [C@H] 1 C ( = O ) C C O\n",
      "PRED SCORE: -0.0880\n",
      "\n",
      "[2025-02-04 09:58:08,771 INFO] \n",
      "SENT 30: ['C', '=', 'C', '1', 'C', '2', 'C', '(', 'O', ')', 'C', '(', 'O', ')', 'C', '=', 'C', 'C', '2', 'C', '(', 'O', ')', 'C', '2', '(', 'C', ')', 'C', '3', 'C', '4', 'C', '(', 'O', ')', 'C', 'C', '(', 'C', 'C', '=', 'C', 'C', '=', 'C', 'C', 'C', 'C', ')', 'N', '4', 'C', '(', '=', 'O', ')', 'C', '3', 'C', '=', 'C', 'C', '1', '2']\n",
      "PRED 30: C = C 1 [C@@H] 2 [C@@H] ( O ) [C@H] ( O ) C = C [C@@H] 2 [C@@H] ( O ) [C@@] 2 ( C ) [C@H] 3 [C@@H] 4 [C@@H] ( O ) C [C@@H] ( C / C = C / C = C / C C C ) N 4 C ( = O ) [C@@H] 3 C = C [C@@H] 1 2\n",
      "PRED SCORE: -0.0863\n",
      "\n",
      "[2025-02-04 09:58:08,771 INFO] \n",
      "SENT 31: ['C', 'C', 'C', 'C', '(', 'O', ')', 'C', 'C', '1', 'O', 'C', '(', '=', 'O', ')', 'c', '2', 'c', '(', 'c', 'c', '(', 'O', 'C', ')', 'c', '(', 'O', 'C', ')', 'c', '2', 'O', ')', 'C', '1', 'O', 'C']\n",
      "PRED 31: C C C [C@@H] ( O ) C [C@H] 1 O C ( = O ) c 2 c ( c c ( O C ) c ( O C ) c 2 O ) [C@H] 1 O C\n",
      "PRED SCORE: -0.1010\n",
      "\n",
      "[2025-02-04 09:58:08,771 INFO] \n",
      "SENT 32: ['C', 'N', 'C', 'C', 'C', 'C', '1', '(', 'N', 'C', '(', '=', 'O', ')', 'C', 'N', 'C', '(', '=', 'O', ')', 'C', '(', 'C', 'C', 'C', 'C', 'N', ')', 'N', 'C', '(', '=', 'O', ')', 'C', '(', 'N', ')', 'C', 'C', 'S', 'C', ')', 'S', 'C', 'C', '(', 'C', '(', '=', 'O', ')', 'N', '2', 'C', 'C', 'C', 'C', '2', 'C', '(', '=', 'O', ')', 'N', '2', 'C', 'C', 'C', 'C', '2', 'C', '(', '=', 'O', ')', 'N', 'C', '(', 'C', 'O', ')', 'C', '(', '=', 'O', ')', 'O', ')', 'N', 'C', '1', '=', 'O']\n",
      "PRED 32: C N C C C [C@@] 1 ( N C ( = O ) C N C ( = O ) [C@H] ( C C C C N ) N C ( = O ) [C@@H] ( N ) C C S C ) S C [C@@H] ( C ( = O ) N 2 C C C [C@H] 2 C ( = O ) N 2 C C C [C@H] 2 C ( = O ) N [C@@H] ( C O ) C ( = O ) O ) N C 1 = O\n",
      "PRED SCORE: -0.0849\n",
      "\n",
      "[2025-02-04 09:58:08,771 INFO] \n",
      "SENT 33: ['C', '=', 'C', 'C', 'C', '1', '=', 'C', 'C', '2', '(', 'O', 'C', ')', 'C', '(', 'C', ')', 'C', '(', 'c', '3', 'c', 'c', '(', 'O', 'C', ')', 'c', '(', 'O', 'C', ')', 'c', '(', 'O', 'C', ')', 'c', '3', ')', 'C', '(', 'O', 'C', ')', '(', 'C', '1', '=', 'O', ')', 'C', '2', 'O']\n",
      "PRED 33: C = C C C 1 = C [C@] 2 ( O C ) [C@H] ( C ) [C@@H] ( c 3 c c ( O C ) c ( O C ) c ( O C ) c 3 ) [C@] ( O C ) ( C 1 = O ) [C@H] 2 O\n",
      "PRED SCORE: -0.0941\n",
      "\n",
      "[2025-02-04 09:58:08,771 INFO] \n",
      "SENT 34: ['C', '=', 'C', '1', 'C', 'C', '2', 'C', 'C', '=', 'C', 'C', '(', 'O', ')', 'C', '(', 'C', ')', 'C', '(', 'C', ')', '=', 'C', 'C', '(', '=', 'O', ')', 'O', 'C', '(', 'C', 'C', '(', 'C', ')', 'C', '(', 'C', ')', 'O', ')', 'C', '(', 'C', ')', 'C', 'C', '=', 'C', 'C', '(', 'C', ')', '(', 'O', ')', 'C', '(', 'O', ')', '(', 'C', '1', ')', 'O', '2']\n",
      "PRED 34: C = C 1 C [C@@H] 2 C / C = C / [C@H] ( O ) [C@H] ( C ) / C ( C ) = C \\ C ( = O ) O [C@H] ( C [C@H] ( C ) [C@H] ( C ) O ) [C@@H] ( C ) C / C = C / [C@@] ( C ) ( O ) [C@] ( O ) ( C 1 ) O 2\n",
      "PRED SCORE: -0.0841\n",
      "\n",
      "[2025-02-04 09:58:08,771 INFO] \n",
      "SENT 35: ['C', 'C', '1', '=', 'C', 'C', '(', '=', 'O', ')', 'C', '(', 'C', ')', '(', 'O', ')', 'C', '=', 'C', 'C', 'C', '(', 'C', ')', 'C', '(', 'C', 'C', '(', 'C', ')', 'C', '(', 'C', ')', 'O', ')', 'O', 'C', '(', '=', 'O', ')', 'C', '=', 'C', '(', 'C', ')', 'C', '(', 'C', ')', 'C', '(', 'O', ')', 'C', '=', 'C', 'C', 'C', '(', 'O', ')', 'C', '1']\n",
      "PRED 35: C / C 1 = C / C ( = O ) [C@] ( C ) ( O ) / C = C / C [C@H] ( C ) [C@@H] ( C [C@H] ( C ) [C@H] ( C ) O ) O C ( = O ) / C = C ( / C ) [C@@H] ( C ) [C@@H] ( O ) / C = C / C [C@H] ( O ) C 1\n",
      "PRED SCORE: -0.0846\n",
      "\n",
      "[2025-02-04 09:58:08,771 INFO] PRED SCORE: -0.0901, PRED PPL: 1.09 NB SENTENCES: 35\n",
      "Time w/o python interpreter load/terminate:  3.391584634780884\n"
     ]
    }
   ],
   "source": [
    "!onmt_translate -model models/partial_augmented_5x/partial_augmented_5x_step_100000.pt -src data/opennmt/validation/source.txt -output data/opennmt/validation/predictions.txt -n_best 1 -beam_size 1 -verbose"
   ]
  },
  {
   "cell_type": "markdown",
   "metadata": {},
   "source": [
    "#### Import predictions"
   ]
  },
  {
   "cell_type": "markdown",
   "metadata": {},
   "source": [
    "Add predictions to data frame"
   ]
  },
  {
   "cell_type": "code",
   "execution_count": 9,
   "metadata": {},
   "outputs": [],
   "source": [
    "predictions = pd.read_csv('data/opennmt/validation/predictions.txt', header=None, sep='\\t')\n",
    "df['prediction'] = predictions"
   ]
  },
  {
   "cell_type": "markdown",
   "metadata": {},
   "source": [
    "Clean formats"
   ]
  },
  {
   "cell_type": "code",
   "execution_count": 10,
   "metadata": {},
   "outputs": [],
   "source": [
    "df['source'] = df['source'].apply(lambda x: x.replace(' ', ''))\n",
    "df['target'] = df['target'].apply(lambda x: x.replace(' ', ''))\n",
    "df['prediction'] = df['prediction'].apply(lambda x: x.replace(' ', ''))"
   ]
  },
  {
   "cell_type": "markdown",
   "metadata": {},
   "source": [
    "Add weighted accuracy"
   ]
  },
  {
   "cell_type": "code",
   "execution_count": 15,
   "metadata": {},
   "outputs": [],
   "source": [
    "df['top1_wt'] = df.apply(lambda x: per_stereocenter(x['source'], x['target'], x['prediction']), axis=1)"
   ]
  },
  {
   "cell_type": "markdown",
   "metadata": {},
   "source": [
    "#### Display results"
   ]
  },
  {
   "cell_type": "code",
   "execution_count": 16,
   "metadata": {},
   "outputs": [],
   "source": [
    "df['target_mol'] = df['target'].apply(Chem.MolFromSmiles)\n",
    "df['prediction_mol'] = df['prediction'].apply(Chem.MolFromSmiles)\n",
    "\n",
    "def mol_to_img_base64(mol, size=(400, 400)):\n",
    "    img = Draw.MolToImage(mol, size=size)\n",
    "    buffer = BytesIO()\n",
    "    img.save(buffer, format=\"PNG\")\n",
    "    img_str = base64.b64encode(buffer.getvalue()).decode(\"utf-8\")\n",
    "    return f'<img src=\"data:image/png;base64,{img_str}\" width=\"{size[0]}\" height=\"{size[1]}\"/>'\n",
    "\n",
    "df['target_img'] = df['target_mol'].apply(lambda mol: mol_to_img_base64(mol))\n",
    "df['prediction_img'] = df['prediction_mol'].apply(lambda mol: mol_to_img_base64(mol))\n",
    "\n",
    "html_content = HTML(df.to_html(escape=False))\n",
    "with open('new_assignments.html', 'w') as f:\n",
    "    f.write(html_content.data)"
   ]
  }
 ],
 "metadata": {
  "kernelspec": {
   "display_name": "chiralpred",
   "language": "python",
   "name": "python3"
  },
  "language_info": {
   "codemirror_mode": {
    "name": "ipython",
    "version": 3
   },
   "file_extension": ".py",
   "mimetype": "text/x-python",
   "name": "python",
   "nbconvert_exporter": "python",
   "pygments_lexer": "ipython3",
   "version": "3.11.8"
  }
 },
 "nbformat": 4,
 "nbformat_minor": 2
}
