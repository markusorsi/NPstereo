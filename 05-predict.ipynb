{
 "cells": [
  {
   "cell_type": "markdown",
   "metadata": {},
   "source": [
    "#### Predictions"
   ]
  },
  {
   "cell_type": "markdown",
   "metadata": {},
   "source": [
    "Not Augmented"
   ]
  },
  {
   "cell_type": "code",
   "execution_count": null,
   "metadata": {},
   "outputs": [],
   "source": [
    "!! onmt_translate -model models/not_augmented/not_augmented_step_100000.pt -src data/opennmt/not_augmented/src-test.txt -output data/opennmt/not_augmented/pred-test.txt -verbose -n_best 3 -beam_size 3"
   ]
  },
  {
   "cell_type": "markdown",
   "metadata": {},
   "source": [
    "Not Augmented on Randomized"
   ]
  },
  {
   "cell_type": "code",
   "execution_count": null,
   "metadata": {},
   "outputs": [],
   "source": [
    "!! onmt_translate -model models/not_augmented/not_augmented_step_100000.pt -src data/opennmt/not_augmented_randomized/src-test.txt -output data/opennmt/not_augmented_randomized/pred-test.txt -verbose -n_best 3 -beam_size 3"
   ]
  },
  {
   "cell_type": "markdown",
   "metadata": {},
   "source": [
    "Augmented 2x"
   ]
  },
  {
   "cell_type": "code",
   "execution_count": null,
   "metadata": {},
   "outputs": [],
   "source": [
    "!! onmt_translate -model models/augmented_2x/augmented_2x_step_100000.pt -src data/opennmt/augmented_2x/src-test.txt -output data/opennmt/augmented_2x/pred-test.txt -verbose -n_best 3 -beam_size 3"
   ]
  },
  {
   "cell_type": "markdown",
   "metadata": {},
   "source": [
    "Augmented 2x on Randomized"
   ]
  },
  {
   "cell_type": "code",
   "execution_count": null,
   "metadata": {},
   "outputs": [],
   "source": [
    "!! onmt_translate -model models/augmented_2x/augmented_2x_step_100000.pt -src data/opennmt/augmented_2x_randomized/src-test.txt -output data/opennmt/augmented_2x_randomized/pred-test.txt -verbose -n_best 3 -beam_size 3"
   ]
  },
  {
   "cell_type": "markdown",
   "metadata": {},
   "source": [
    "Augmented 5x"
   ]
  },
  {
   "cell_type": "code",
   "execution_count": null,
   "metadata": {},
   "outputs": [],
   "source": [
    "!! onmt_translate -model models/augmented_5x/augmented_5x_step_100000.pt -src data/opennmt/augmented_5x/src-test.txt -output data/opennmt/augmented_5x/pred-test.txt -verbose -n_best 3 -beam_size 3"
   ]
  },
  {
   "cell_type": "markdown",
   "metadata": {},
   "source": [
    "Augmented 5x on Randomized"
   ]
  },
  {
   "cell_type": "code",
   "execution_count": null,
   "metadata": {},
   "outputs": [],
   "source": [
    "!! onmt_translate -model models/augmented_5x/augmented_5x_step_100000.pt -src data/opennmt/augmented_5x_randomized/src-test.txt -output data/opennmt/augmented_5x_randomized/pred-test.txt -verbose -n_best 3 -beam_size 3"
   ]
  },
  {
   "cell_type": "markdown",
   "metadata": {},
   "source": [
    "Augmented 10x"
   ]
  },
  {
   "cell_type": "code",
   "execution_count": null,
   "metadata": {},
   "outputs": [],
   "source": [
    "!! onmt_translate -model models/augmented_10x/augmented_10x_step_100000.pt -src data/opennmt/augmented_10x/src-test.txt -output data/opennmt/augmented_10x/pred-test.txt -verbose -n_best 3 -beam_size 3"
   ]
  },
  {
   "cell_type": "markdown",
   "metadata": {},
   "source": [
    "Augmented 10x on Randomized"
   ]
  },
  {
   "cell_type": "code",
   "execution_count": null,
   "metadata": {},
   "outputs": [],
   "source": [
    "!! onmt_translate -model models/augmented_10x/augmented_10x_step_100000.pt -src data/opennmt/augmented_10x_randomized/src-test.txt -output data/opennmt/augmented_10x_randomized/pred-test.txt -verbose -n_best 3 -beam_size 3"
   ]
  },
  {
   "cell_type": "markdown",
   "metadata": {},
   "source": [
    "Augmented 20x"
   ]
  },
  {
   "cell_type": "code",
   "execution_count": null,
   "metadata": {},
   "outputs": [],
   "source": [
    "!! onmt_translate -model models/augmented_20x/augmented_20x_step_100000.pt -src data/opennmt/augmented_20x/src-test.txt -output data/opennmt/augmented_20x/pred-test.txt -verbose -n_best 3 -beam_size 3"
   ]
  },
  {
   "cell_type": "markdown",
   "metadata": {},
   "source": [
    "Augmented 20x on Randomized"
   ]
  },
  {
   "cell_type": "code",
   "execution_count": null,
   "metadata": {},
   "outputs": [],
   "source": [
    "!! onmt_translate -model models/augmented_20x/augmented_20x_step_100000.pt -src data/opennmt/augmented_20x_randomized/src-test.txt -output data/opennmt/augmented_20x_randomized/pred-test.txt -verbose -n_best 3 -beam_size 3"
   ]
  },
  {
   "cell_type": "markdown",
   "metadata": {},
   "source": [
    "Augmented 50x"
   ]
  },
  {
   "cell_type": "code",
   "execution_count": null,
   "metadata": {},
   "outputs": [],
   "source": [
    "!! onmt_translate -model models/augmented_50x/augmented_50x_step_100000.pt -src data/opennmt/augmented_50x/src-test.txt -output data/opennmt/augmented_50x/pred-test.txt -verbose -n_best 3 -beam_size 3"
   ]
  },
  {
   "cell_type": "markdown",
   "metadata": {},
   "source": [
    "Augmented 50x on Randomized"
   ]
  },
  {
   "cell_type": "code",
   "execution_count": null,
   "metadata": {},
   "outputs": [],
   "source": [
    "!! onmt_translate -model models/augmented_50x/augmented_50x_step_100000.pt -src data/opennmt/augmented_50x_randomized/src-test.txt -output data/opennmt/augmented_50x_randomized/pred-test.txt -verbose -n_best 3 -beam_size 3"
   ]
  },
  {
   "cell_type": "markdown",
   "metadata": {},
   "source": [
    "Not Augmented Scrambled"
   ]
  },
  {
   "cell_type": "code",
   "execution_count": null,
   "metadata": {},
   "outputs": [],
   "source": [
    "!! onmt_translate -model models/not_augmented_scrambled/not_augmented_scrambled_step_100000.pt -src data/opennmt/not_augmented_scrambled/src-test.txt -output data/opennmt/not_augmented_scrambled/pred-test.txt -verbose -n_best 3 -beam_size 3"
   ]
  },
  {
   "cell_type": "markdown",
   "metadata": {},
   "source": [
    "Not Augmented Scrambled on Randomized"
   ]
  },
  {
   "cell_type": "code",
   "execution_count": null,
   "metadata": {},
   "outputs": [],
   "source": [
    "!! onmt_translate -model models/not_augmented_scrambled/not_augmented_scrambled_step_100000.pt -src data/opennmt/not_augmented_scrambled_randomized/src-test.txt -output data/opennmt/not_augmented_scrambled_randomized/pred-test.txt -verbose -n_best 3 -beam_size 3"
   ]
  },
  {
   "cell_type": "markdown",
   "metadata": {},
   "source": [
    "Partial Augmented"
   ]
  },
  {
   "cell_type": "code",
   "execution_count": null,
   "metadata": {},
   "outputs": [],
   "source": [
    "!! onmt_translate -model models/partial_augmented_5x/partial_augmented_5x_step_100000.pt -src data/opennmt/partial_augmented_5x/src-test.txt -output data/opennmt/partial_augmented_5x/pred-test.txt -verbose -n_best 3 -beam_size 3"
   ]
  },
  {
   "cell_type": "markdown",
   "metadata": {},
   "source": [
    "Partial Augmented on Randomized"
   ]
  },
  {
   "cell_type": "code",
   "execution_count": null,
   "metadata": {},
   "outputs": [],
   "source": [
    "!! onmt_translate -model models/partial_augmented_5x/partial_augmented_5x_step_100000.pt -src data/opennmt/partial_augmented_5x_randomized/src-test.txt -output data/opennmt/partial_augmented_5x_randomized/pred-test.txt -verbose -n_best 3 -beam_size 3"
   ]
  },
  {
   "cell_type": "markdown",
   "metadata": {},
   "source": [
    "Partial Augmented Scrambled"
   ]
  },
  {
   "cell_type": "code",
   "execution_count": null,
   "metadata": {},
   "outputs": [],
   "source": [
    "!! onmt_translate -model models/partial_augmented_5x_partial_scrambled/partial_augmented_5x_partial_scrambled_step_100000.pt -src data/opennmt/partial_augmented_5x_scrambled/src-test.txt -output data/opennmt/partial_augmented_5x_scrambled/pred-test.txt -verbose -n_best 3 -beam_size 3"
   ]
  },
  {
   "cell_type": "markdown",
   "metadata": {},
   "source": [
    "Partial Augmented Scrambled on Randomized"
   ]
  },
  {
   "cell_type": "code",
   "execution_count": null,
   "metadata": {},
   "outputs": [],
   "source": [
    "!! onmt_translate -model models/partial_augmented_5x_partial_scrambled/partial_augmented_5x_partial_scrambled_step_100000.pt -src data/opennmt/partial_augmented_5x_scrambled_randomized/src-test.txt -output data/opennmt/partial_augmented_5x_scrambled_randomized/pred-test.txt -verbose -n_best 3 -beam_size 3"
   ]
  },
  {
   "cell_type": "markdown",
   "metadata": {},
   "source": [
    "Mixed Augmented"
   ]
  },
  {
   "cell_type": "code",
   "execution_count": null,
   "metadata": {},
   "outputs": [],
   "source": [
    "!!  onmt_translate -model models/mixed_augmented/mixed_augmented_step_100000.pt -src data/opennmt/mixed_augmented/src-test.txt -output data/opennmt/mixed_augmented/pred-test.txt -verbose -n_best 3 -beam_size 3"
   ]
  },
  {
   "cell_type": "markdown",
   "metadata": {},
   "source": [
    "Mixed Augmented on Randomized"
   ]
  },
  {
   "cell_type": "code",
   "execution_count": null,
   "metadata": {},
   "outputs": [],
   "source": [
    "!! onmt_translate -model models/mixed_augmented/mixed_augmented_step_100000.pt -src data/opennmt/mixed_augmented_randomized/src-test.txt -output data/opennmt/mixed_augmented_randomized/pred-test.txt -verbose -n_best 3 -beam_size 3"
   ]
  },
  {
   "cell_type": "markdown",
   "metadata": {},
   "source": [
    "Mixed Augmented on Partial"
   ]
  },
  {
   "cell_type": "code",
   "execution_count": null,
   "metadata": {},
   "outputs": [],
   "source": [
    "!! onmt_translate -model models/mixed_augmented/mixed_augmented_step_100000.pt -src data/opennmt/mixed_augmented_partial/src-test.txt -output data/opennmt/mixed_augmented_partial/pred-test.txt -verbose -n_best 3 -beam_size 3"
   ]
  },
  {
   "cell_type": "markdown",
   "metadata": {},
   "source": [
    "Mixed Augmented on Partial Randomized"
   ]
  },
  {
   "cell_type": "code",
   "execution_count": null,
   "metadata": {},
   "outputs": [],
   "source": [
    "!! onmt_translate -model models/mixed_augmented/mixed_augmented_step_100000.pt -src data/opennmt/mixed_augmented_partial_randomized/src-test.txt -output data/opennmt/mixed_augmented_partial_randomized/pred-test.txt -verbose -n_best 3 -beam_size 3"
   ]
  },
  {
   "cell_type": "markdown",
   "metadata": {},
   "source": [
    "Partial Augmented on Partial"
   ]
  },
  {
   "cell_type": "code",
   "execution_count": null,
   "metadata": {},
   "outputs": [],
   "source": [
    "!! onmt_translate -model models/partial_augmented_5x/partial_augmented_5x_step_100000.pt -src data/opennmt/partial_augmented_5x_partial/src-test.txt -output data/opennmt/partial_augmented_5x_partial/pred-test.txt -verbose -n_best 3 -beam_size 3"
   ]
  },
  {
   "cell_type": "markdown",
   "metadata": {},
   "source": [
    "Partial Augmented on Partial Randomized"
   ]
  },
  {
   "cell_type": "code",
   "execution_count": null,
   "metadata": {},
   "outputs": [],
   "source": [
    "!! onmt_translate -model models/partial_augmented_5x/partial_augmented_5x_step_100000.pt -src data/opennmt/partial_augmented_5x_partial_randomized/src-test.txt -output data/opennmt/partial_augmented_5x_partial_randomized/pred-test.txt -verbose -n_best 3 -beam_size 3"
   ]
  },
  {
   "cell_type": "markdown",
   "metadata": {},
   "source": [
    "Partial Augmented Scrambled on Partial"
   ]
  },
  {
   "cell_type": "code",
   "execution_count": null,
   "metadata": {},
   "outputs": [],
   "source": [
    "!! onmt_translate -model models/partial_augmented_5x_partial_scrambled/partial_augmented_5x_partial_scrambled_step_100000.pt -src data/opennmt/partial_augmented_5x_partial_scrambled/src-test.txt -output data/opennmt/partial_augmented_5x_partial_scrambled/pred-test.txt -verbose -n_best 3 -beam_size 3"
   ]
  },
  {
   "cell_type": "markdown",
   "metadata": {},
   "source": [
    "Partial Augmented Scrambled on Partial Randomized"
   ]
  },
  {
   "cell_type": "code",
   "execution_count": null,
   "metadata": {},
   "outputs": [],
   "source": [
    "!! onmt_translate -model models/partial_augmented_5x_partial_scrambled/partial_augmented_5x_partial_scrambled_step_100000.pt -src data/opennmt/partial_augmented_5x_partial_scrambled_randomized/src-test.txt -output data/opennmt/partial_augmented_5x_partial_scrambled_randomized/pred-test.txt -verbose -n_best 3 -beam_size 3"
   ]
  }
 ],
 "metadata": {
  "kernelspec": {
   "display_name": "chiralpred",
   "language": "python",
   "name": "python3"
  },
  "language_info": {
   "codemirror_mode": {
    "name": "ipython",
    "version": 3
   },
   "file_extension": ".py",
   "mimetype": "text/x-python",
   "name": "python",
   "nbconvert_exporter": "python",
   "pygments_lexer": "ipython3",
   "version": "3.11.8"
  }
 },
 "nbformat": 4,
 "nbformat_minor": 2
}
