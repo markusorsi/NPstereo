{
 "cells": [
  {
   "cell_type": "markdown",
   "metadata": {},
   "source": [
    "#### Predictions"
   ]
  },
  {
   "cell_type": "markdown",
   "metadata": {},
   "source": [
    "Not Augmented"
   ]
  },
  {
   "cell_type": "code",
   "execution_count": null,
   "metadata": {},
   "outputs": [],
   "source": [
    "!! onmt_translate -model models/not_augmented/not_augmented_step_200000.pt -src data/opennmt/not_augmented/src-test.txt -output data/opennmt/not_augmented/pred-test.txt -verbose -n_best 3 -beam_size 3"
   ]
  },
  {
   "cell_type": "markdown",
   "metadata": {},
   "source": [
    "Augmented 2x"
   ]
  },
  {
   "cell_type": "code",
   "execution_count": null,
   "metadata": {},
   "outputs": [],
   "source": [
    "!! onmt_translate -model models/augmented_2x/augmented_2x_step_200000.pt -src data/opennmt/augmented_2x/src-test.txt -output data/opennmt/augmented_2x/pred-test.txt -verbose -n_best 3 -beam_size 3"
   ]
  },
  {
   "cell_type": "markdown",
   "metadata": {},
   "source": [
    "Augmented 5x"
   ]
  },
  {
   "cell_type": "code",
   "execution_count": null,
   "metadata": {},
   "outputs": [],
   "source": [
    "!! onmt_translate -model models/augmented_5x/augmented_5x_step_200000.pt -src data/opennmt/augmented_5x/src-test.txt -output data/opennmt/augmented_5x/pred-test.txt -verbose -n_best 3 -beam_size 3"
   ]
  },
  {
   "cell_type": "markdown",
   "metadata": {},
   "source": [
    "Augmented 10x"
   ]
  },
  {
   "cell_type": "code",
   "execution_count": null,
   "metadata": {},
   "outputs": [],
   "source": [
    "!! onmt_translate -model models/augmented_10x/augmented_10x_step_200000.pt -src data/opennmt/augmented_10x/src-test.txt -output data/opennmt/augmented_10x/pred-test.txt -verbose -n_best 3 -beam_size 3"
   ]
  },
  {
   "cell_type": "markdown",
   "metadata": {},
   "source": [
    "Augmented 20x"
   ]
  },
  {
   "cell_type": "code",
   "execution_count": null,
   "metadata": {},
   "outputs": [],
   "source": [
    "!! onmt_translate -model models/augmented_20x/augmented_20x_step_200000.pt -src data/opennmt/augmented_20x/src-test.txt -output data/opennmt/augmented_20x/pred-test.txt -verbose -n_best 3 -beam_size 3"
   ]
  },
  {
   "cell_type": "markdown",
   "metadata": {},
   "source": [
    "Augmented 5x: Scrambled Chirality"
   ]
  },
  {
   "cell_type": "code",
   "execution_count": null,
   "metadata": {},
   "outputs": [],
   "source": [
    "!! onmt_translate -model models/scrambled_5x/scrambled_5x_step_200000.pt -src data/opennmt/scrambled_5x/src-test.txt -output data/opennmt/scrambled_5x/pred-test.txt -verbose -n_best 3 -beam_size 3"
   ]
  }
 ],
 "metadata": {
  "kernelspec": {
   "display_name": "chiralpred",
   "language": "python",
   "name": "python3"
  },
  "language_info": {
   "codemirror_mode": {
    "name": "ipython",
    "version": 3
   },
   "file_extension": ".py",
   "mimetype": "text/x-python",
   "name": "python",
   "nbconvert_exporter": "python",
   "pygments_lexer": "ipython3",
   "version": "3.11.8"
  }
 },
 "nbformat": 4,
 "nbformat_minor": 2
}
