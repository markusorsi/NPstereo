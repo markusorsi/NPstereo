{
 "cells": [
  {
   "cell_type": "code",
   "execution_count": 2,
   "metadata": {},
   "outputs": [],
   "source": [
    "import os"
   ]
  },
  {
   "cell_type": "markdown",
   "metadata": {},
   "source": [
    "#### Training Loop"
   ]
  },
  {
   "cell_type": "code",
   "execution_count": 4,
   "metadata": {},
   "outputs": [],
   "source": [
    "augmentations = ['augmented_5x', 'augmented_20x', 'scrambled_5x']\n",
    "\n",
    "for augmentation in augmentations:\n",
    "\n",
    "    # Change directory\n",
    "    os.chdir(f'/home/markus/Developer/Code/ChiralityPrediction24/models/{augmentation}/')\n",
    "    os.getcwd()\n",
    "    \n",
    "    # Build vocabulary\n",
    "    !! onmt_build_vocab -config config.yaml\n",
    "\n",
    "    # Train model\n",
    "    !! onmt_train -config config.yaml"
   ]
  }
 ],
 "metadata": {
  "kernelspec": {
   "display_name": "chiralpred",
   "language": "python",
   "name": "python3"
  },
  "language_info": {
   "codemirror_mode": {
    "name": "ipython",
    "version": 3
   },
   "file_extension": ".py",
   "mimetype": "text/x-python",
   "name": "python",
   "nbconvert_exporter": "python",
   "pygments_lexer": "ipython3",
   "version": "3.11.8"
  }
 },
 "nbformat": 4,
 "nbformat_minor": 2
}
