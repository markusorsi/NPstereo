{
 "cells": [
  {
   "cell_type": "code",
   "execution_count": 1,
   "metadata": {},
   "outputs": [],
   "source": [
    "import os\n",
    "import re\n",
    "import pandas as pd"
   ]
  },
  {
   "cell_type": "code",
   "execution_count": null,
   "metadata": {},
   "outputs": [],
   "source": [
    "def smi_tokenizer(smi: str) -> str:\n",
    "    \"\"\"\n",
    "    Tokenize a SMILES molecule or reaction.\n",
    "    \"\"\"\n",
    "    pattern = (\n",
    "        r\"(\\[[^\\]]+]|Br?|Cl?|N|O|S|P|F|I|b|c|n|o|s|p|\"    \n",
    "        r\"\\(|\\)|\\.|=|#|-|\\+|\\\\|\\/|:|~|@|\\?|>|\\*|!|\\$|\"     \n",
    "        r\"%[0-9]{2}|[0-9])\"                               \n",
    "    )\n",
    "    regex = re.compile(pattern)\n",
    "    tokens = regex.findall(smi)\n",
    "    return ' '.join(tokens)\n",
    "\n",
    "def load_and_tokenize(file_path: str) -> pd.DataFrame:\n",
    "    \"\"\"\n",
    "    Load a CSV file and tokenize the 'source' and 'target' columns.\n",
    "    \"\"\"\n",
    "    df = pd.read_csv(file_path)\n",
    "    # Tokenize both source and target SMILES strings.\n",
    "    df['source'] = df['source'].apply(smi_tokenizer)\n",
    "    df['target'] = df['target'].apply(smi_tokenizer)\n",
    "    return df\n",
    "\n",
    "def export_to_opennmt(df: pd.DataFrame, export_path: str):\n",
    "    \"\"\"\n",
    "    Export the DataFrame (with tokenized SMILES) to separate files for train, test, and validation splits.\n",
    "    \"\"\"\n",
    "    os.makedirs(export_path, exist_ok=True)\n",
    "    \n",
    "    # Split the data according to the original 'split' column.\n",
    "    train = df[df['split'] == 'train']\n",
    "    test  = df[df['split'] == 'test']\n",
    "    val   = df[df['split'] == 'validation']\n",
    "    \n",
    "    train['source'].to_csv(os.path.join(export_path, 'src-train.txt'), index=False, header=False)\n",
    "    train['target'].to_csv(os.path.join(export_path, 'tgt-train.txt'), index=False, header=False)\n",
    "    test['source'].to_csv(os.path.join(export_path, 'src-test.txt'), index=False, header=False)\n",
    "    test['target'].to_csv(os.path.join(export_path, 'tgt-test.txt'), index=False, header=False)\n",
    "    val['source'].to_csv(os.path.join(export_path, 'src-val.txt'), index=False, header=False)\n",
    "    val['target'].to_csv(os.path.join(export_path, 'tgt-val.txt'), index=False, header=False)"
   ]
  },
  {
   "cell_type": "code",
   "execution_count": null,
   "metadata": {},
   "outputs": [],
   "source": [
    "# Base directory where the augmented output files are stored (using seed 42 as default; change as needed)\n",
    "seed = 42\n",
    "base_dir = f\"data/augmented/seed-{seed}\"\n",
    "save_dir = f\"data/opennmt/seed-{seed}\""
   ]
  },
  {
   "cell_type": "code",
   "execution_count": 11,
   "metadata": {},
   "outputs": [],
   "source": [
    "datasets = {\n",
    "    \"c1\":               os.path.join(base_dir, f\"c1-{seed}.csv\"),\n",
    "    \"nc1\":              os.path.join(base_dir, f\"nc1-{seed}.csv\"),\n",
    "    \"r1\":               os.path.join(base_dir, f\"r1-{seed}.csv\"),\n",
    "    \"a2\":               os.path.join(base_dir, f\"a2-{seed}.csv\"),\n",
    "    \"a5\":               os.path.join(base_dir, f\"a5-{seed}.csv\"),\n",
    "    \"a10\":              os.path.join(base_dir, f\"a10-{seed}.csv\"),\n",
    "    \"a20\":              os.path.join(base_dir, f\"a20-{seed}.csv\"),\n",
    "    \"a50\":              os.path.join(base_dir, f\"a50-{seed}.csv\"),\n",
    "    \"npstereo\":         os.path.join(base_dir, f\"npstereo-{seed}.csv\"),\n",
    "    \"ncnpstereo\":       os.path.join(base_dir, f\"ncnpstereo-{seed}.csv\"),\n",
    "    \"rp\":               os.path.join(base_dir, f\"rp-{seed}.csv\"),\n",
    "    \"ncrp\":             os.path.join(base_dir, f\"ncrp-{seed}.csv\"),\n",
    "    \"m65\":              os.path.join(base_dir, f\"m65-{seed}.csv\"),\n",
    "}\n",
    "\n",
    "export_dirs = {\n",
    "    \"c1\":               os.path.join(save_dir, \"c1\"),\n",
    "    \"nc1\":              os.path.join(save_dir, \"nc1\"),\n",
    "    \"r1\":               os.path.join(save_dir, \"r1\"),\n",
    "    \"a2\":               os.path.join(save_dir, \"a2\"),\n",
    "    \"a5\":               os.path.join(save_dir, \"a5\"),\n",
    "    \"a10\":              os.path.join(save_dir, \"a10\"),\n",
    "    \"a20\":              os.path.join(save_dir, \"a20\"),\n",
    "    \"a50\":              os.path.join(save_dir, \"a50\"),\n",
    "    \"npstereo\":         os.path.join(save_dir, \"npstereo\"),\n",
    "    \"ncnpstereo\":       os.path.join(save_dir, \"ncnpstereo\"),\n",
    "    \"rp\":               os.path.join(save_dir, \"rp\"),\n",
    "    \"ncrp\":             os.path.join(save_dir, \"ncrp\"),\n",
    "    \"m65\":              os.path.join(save_dir, \"m65\"),\n",
    "}"
   ]
  },
  {
   "cell_type": "code",
   "execution_count": 12,
   "metadata": {},
   "outputs": [
    {
     "name": "stdout",
     "output_type": "stream",
     "text": [
      "Processing dataset 'c1' from data/augmented/seed-42/c1-42.csv...\n",
      "Exported 'c1' files to data/opennmt/seed-42/c1\n",
      "Processing dataset 'nc1' from data/augmented/seed-42/nc1-42.csv...\n",
      "Exported 'nc1' files to data/opennmt/seed-42/nc1\n",
      "Processing dataset 'r1' from data/augmented/seed-42/r1-42.csv...\n",
      "Exported 'r1' files to data/opennmt/seed-42/r1\n",
      "Processing dataset 'a2' from data/augmented/seed-42/a2-42.csv...\n",
      "Exported 'a2' files to data/opennmt/seed-42/a2\n",
      "Processing dataset 'a5' from data/augmented/seed-42/a5-42.csv...\n",
      "Exported 'a5' files to data/opennmt/seed-42/a5\n",
      "Processing dataset 'a10' from data/augmented/seed-42/a10-42.csv...\n",
      "Exported 'a10' files to data/opennmt/seed-42/a10\n",
      "Processing dataset 'a20' from data/augmented/seed-42/a20-42.csv...\n",
      "Exported 'a20' files to data/opennmt/seed-42/a20\n",
      "Processing dataset 'a50' from data/augmented/seed-42/a50-42.csv...\n",
      "Exported 'a50' files to data/opennmt/seed-42/a50\n",
      "Processing dataset 'npstereo' from data/augmented/seed-42/npstereo-42.csv...\n",
      "Exported 'npstereo' files to data/opennmt/seed-42/npstereo\n",
      "Processing dataset 'ncnpstereo' from data/augmented/seed-42/ncnpstereo-42.csv...\n",
      "Exported 'ncnpstereo' files to data/opennmt/seed-42/ncnpstereo\n",
      "Processing dataset 'rp' from data/augmented/seed-42/rp-42.csv...\n",
      "Exported 'rp' files to data/opennmt/seed-42/rp\n",
      "Processing dataset 'ncrp' from data/augmented/seed-42/ncrp-42.csv...\n",
      "Exported 'ncrp' files to data/opennmt/seed-42/ncrp\n",
      "Processing dataset 'm65' from data/augmented/seed-42/m65-42.csv...\n",
      "Exported 'm65' files to data/opennmt/seed-42/m65\n"
     ]
    }
   ],
   "source": [
    "# Process each dataset: load, tokenize, and export.\n",
    "for key, file_path in datasets.items():\n",
    "    print(f\"Processing dataset '{key}' from {file_path}...\")\n",
    "    df = load_and_tokenize(file_path)\n",
    "    export_to_opennmt(df, export_dirs[key])\n",
    "    print(f\"Exported '{key}' files to {export_dirs[key]}\")"
   ]
  }
 ],
 "metadata": {
  "kernelspec": {
   "display_name": "chiralpred",
   "language": "python",
   "name": "python3"
  },
  "language_info": {
   "codemirror_mode": {
    "name": "ipython",
    "version": 3
   },
   "file_extension": ".py",
   "mimetype": "text/x-python",
   "name": "python",
   "nbconvert_exporter": "python",
   "pygments_lexer": "ipython3",
   "version": "3.11.8"
  }
 },
 "nbformat": 4,
 "nbformat_minor": 2
}
