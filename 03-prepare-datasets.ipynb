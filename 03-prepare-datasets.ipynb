{
 "cells": [
  {
   "cell_type": "code",
   "execution_count": 1,
   "metadata": {},
   "outputs": [],
   "source": [
    "import pandas as pd\n",
    "import re"
   ]
  },
  {
   "cell_type": "markdown",
   "metadata": {},
   "source": [
    "#### Prepare data for training"
   ]
  },
  {
   "cell_type": "markdown",
   "metadata": {},
   "source": [
    "Import generated data"
   ]
  },
  {
   "cell_type": "code",
   "execution_count": 2,
   "metadata": {},
   "outputs": [],
   "source": [
    "not_augmented = pd.read_csv('data/dataset_not_augmented.csv')\n",
    "randomized = pd.read_csv('data/dataset_randomized.csv')\n",
    "not_augmented_scrambled = pd.read_csv('data/dataset_scrambled.csv')\n",
    "\n",
    "augmented_2x = pd.read_csv('data/dataset_augmented_2x.csv')\n",
    "augmented_5x = pd.read_csv('data/dataset_augmented_5x.csv')\n",
    "augmented_10x = pd.read_csv('data/dataset_augmented_10x.csv')\n",
    "augmented_20x = pd.read_csv('data/dataset_augmented_20x.csv')\n",
    "augmented_50x = pd.read_csv('data/dataset_augmented_50x.csv')\n",
    "\n",
    "partial_augmented_5x = pd.read_csv('data/dataset_partial_augmented_5x.csv')\n",
    "randomized_partial_augmented_5x = pd.read_csv('data/dataset_randomized_partial_augmented_5x.csv')\n",
    "scrambled_partial_augmented_5x = pd.read_csv('data/dataset_scrambled_partial_augmented_5x.csv')\n",
    "randomized_scrambled_partial_augmented_5x = pd.read_csv('data/dataset_randomized_scrambled_partial_augmented_5x.csv')\n",
    "mixed_augmented = pd.read_csv('data/dataset_mixed_augmented.csv')"
   ]
  },
  {
   "cell_type": "markdown",
   "metadata": {},
   "source": [
    "Tokenize the data"
   ]
  },
  {
   "cell_type": "code",
   "execution_count": 21,
   "metadata": {},
   "outputs": [],
   "source": [
    "def smi_tokenizer(smi: str) -> str:\n",
    "        \"\"\"\n",
    "        Tokenize a SMILES molecule or reaction.\n",
    "        \"\"\"\n",
    "        pattern =  \"(\\[[^\\]]+]|Br?|Cl?|N|O|S|P|F|I|b|c|n|o|s|p|\\(|\\)|\\.|=|#|-|\\+|\\\\\\\\|\\/|:|~|@|\\?|>|\\*|\\!|\\$|\\%[0-9]{2}|[0-9])\"\n",
    "        regex = re.compile(pattern)\n",
    "        tokens = [token for token in regex.findall(smi)]\n",
    "        assert smi == ''.join(tokens)\n",
    "        return ' '.join(tokens)"
   ]
  },
  {
   "cell_type": "code",
   "execution_count": null,
   "metadata": {},
   "outputs": [],
   "source": [
    "not_augmented['source'] = not_augmented['source'].apply(smi_tokenizer)\n",
    "randomized['source'] = randomized['source'].apply(smi_tokenizer)\n",
    "not_augmented_scrambled['source'] = not_augmented_scrambled['source'].apply(smi_tokenizer)\n",
    "\n",
    "augmented_2x['source'] = augmented_2x['source'].apply(smi_tokenizer)\n",
    "augmented_5x['source'] = augmented_5x['source'].apply(smi_tokenizer)\n",
    "augmented_10x['source'] = augmented_10x['source'].apply(smi_tokenizer)\n",
    "augmented_20x['source'] = augmented_20x['source'].apply(smi_tokenizer)\n",
    "augmented_50x['source'] = augmented_50x['source'].apply(smi_tokenizer)\n",
    "\n",
    "partial_augmented_5x['source'] = partial_augmented_5x['source'].apply(smi_tokenizer)\n",
    "randomized_partial_augmented_5x['source'] = randomized_partial_augmented_5x['source'].apply(smi_tokenizer)\n",
    "scrambled_partial_augmented_5x['source'] = scrambled_partial_augmented_5x['source'].apply(smi_tokenizer)\n",
    "randomized_scrambled_partial_augmented_5x['source'] = randomized_scrambled_partial_augmented_5x['source'].apply(smi_tokenizer)\n",
    "mixed_augmented['source'] = mixed_augmented['source'].apply(smi_tokenizer)"
   ]
  },
  {
   "cell_type": "code",
   "execution_count": 26,
   "metadata": {},
   "outputs": [],
   "source": [
    "not_augmented['target'] = not_augmented['target'].apply(smi_tokenizer)\n",
    "randomized['target'] = randomized['target'].apply(smi_tokenizer)\n",
    "not_augmented_scrambled['target'] = not_augmented_scrambled['target'].apply(smi_tokenizer)\n",
    "\n",
    "augmented_2x['target'] = augmented_2x['target'].apply(smi_tokenizer)\n",
    "augmented_5x['target'] = augmented_5x['target'].apply(smi_tokenizer)\n",
    "augmented_10x['target'] = augmented_10x['target'].apply(smi_tokenizer)\n",
    "augmented_20x['target'] = augmented_20x['target'].apply(smi_tokenizer)\n",
    "augmented_50x['target'] = augmented_50x['target'].apply(smi_tokenizer)\n",
    "\n",
    "partial_augmented_5x['target'] = partial_augmented_5x['target'].apply(smi_tokenizer)\n",
    "randomized_partial_augmented_5x['target'] = randomized_partial_augmented_5x['target'].apply(smi_tokenizer)\n",
    "scrambled_partial_augmented_5x['target'] = scrambled_partial_augmented_5x['target'].apply(smi_tokenizer)\n",
    "randomized_scrambled_partial_augmented_5x['target'] = randomized_scrambled_partial_augmented_5x['target'].apply(smi_tokenizer)\n",
    "mixed_augmented['target'] = mixed_augmented['target'].apply(smi_tokenizer)"
   ]
  },
  {
   "cell_type": "markdown",
   "metadata": {},
   "source": [
    "Export data for training with OpenNMT"
   ]
  },
  {
   "cell_type": "code",
   "execution_count": 6,
   "metadata": {},
   "outputs": [],
   "source": [
    "def export_to_opennmt(df, path):\n",
    "    \n",
    "    train = df[df['split'] == 'train']\n",
    "    test = df[df['split'] == 'test']\n",
    "    val = df[df['split'] == 'validation']\n",
    "\n",
    "    train['source'].to_csv(path + '/src-train.txt', index=False, header=False)\n",
    "    train['target'].to_csv(path + '/tgt-train.txt', index=False, header=False)\n",
    "    test['source'].to_csv(path + '/src-test.txt', index=False, header=False)\n",
    "    test['target'].to_csv(path + '/tgt-test.txt', index=False, header=False)\n",
    "    val['source'].to_csv(path + '/src-val.txt', index=False, header=False)\n",
    "    val['target'].to_csv(path + '/tgt-val.txt', index=False, header=False)"
   ]
  },
  {
   "cell_type": "code",
   "execution_count": null,
   "metadata": {},
   "outputs": [],
   "source": [
    "export_to_opennmt(not_augmented, 'data/opennmt/not_augmented')\n",
    "export_to_opennmt(randomized, 'data/opennmt/not_augmented_randomized')\n",
    "export_to_opennmt(not_augmented_scrambled, 'data/opennmt/not_augmented_scrambled')\n",
    "\n",
    "export_to_opennmt(augmented_2x, 'data/opennmt/augmented_2x')\n",
    "export_to_opennmt(augmented_5x, 'data/opennmt/augmented_5x')\n",
    "export_to_opennmt(augmented_10x, 'data/opennmt/augmented_10x')\n",
    "export_to_opennmt(augmented_20x, 'data/opennmt/augmented_20x')\n",
    "export_to_opennmt(augmented_50x, 'data/opennmt/augmented_50x')\n",
    "\n",
    "export_to_opennmt(partial_augmented_5x, 'data/opennmt/partial_augmented_5x')\n",
    "export_to_opennmt(scrambled_partial_augmented_5x, 'data/opennmt/partial_augmented_5x_partial_scrambled')\n",
    "export_to_opennmt(randomized_partial_augmented_5x, 'data/opennmt/partial_augmented_5x_partial_randomized')\n",
    "export_to_opennmt(randomized_scrambled_partial_augmented_5x, 'data/opennmt/partial_augmented_5x_partial_scrambled_randomized')\n",
    "export_to_opennmt(mixed_augmented, 'data/opennmt/mixed_augmented')"
   ]
  }
 ],
 "metadata": {
  "kernelspec": {
   "display_name": "chiralpred",
   "language": "python",
   "name": "python3"
  },
  "language_info": {
   "codemirror_mode": {
    "name": "ipython",
    "version": 3
   },
   "file_extension": ".py",
   "mimetype": "text/x-python",
   "name": "python",
   "nbconvert_exporter": "python",
   "pygments_lexer": "ipython3",
   "version": "3.11.8"
  }
 },
 "nbformat": 4,
 "nbformat_minor": 2
}
